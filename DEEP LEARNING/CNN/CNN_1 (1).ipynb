{
  "nbformat": 4,
  "nbformat_minor": 0,
  "metadata": {
    "colab": {
      "name": "CNN_1.ipynb",
      "provenance": [],
      "collapsed_sections": []
    },
    "kernelspec": {
      "display_name": "Python 3",
      "name": "python3"
    },
    "language_info": {
      "name": "python"
    }
  },
  "cells": [
    {
      "cell_type": "markdown",
      "metadata": {
        "id": "XhU2dK-SORVC"
      },
      "source": [
        "## **CNN with MNIST Data**"
      ]
    },
    {
      "cell_type": "code",
      "metadata": {
        "id": "pyjqyftAzSfT"
      },
      "source": [
        "import pandas as pd\n",
        "import seaborn as sns\n",
        "import tensorflow as tf                       \n",
        "import numpy as np                           \n",
        "import matplotlib.pyplot as plt               \n",
        "%matplotlib inline"
      ],
      "execution_count": 1,
      "outputs": []
    },
    {
      "cell_type": "code",
      "metadata": {
        "id": "xmHOOUQUzYbu",
        "colab": {
          "base_uri": "https://localhost:8080/"
        },
        "outputId": "1e3345d1-e7ef-4eaf-e70b-5af3338deee9"
      },
      "source": [
        "from tensorflow.keras.datasets.mnist import load_data    # To load the MNIST digit dataset\n",
        "\n",
        "(X_train, y_train) , (X_test, y_test) = load_data()      # Loading data"
      ],
      "execution_count": 2,
      "outputs": [
        {
          "output_type": "stream",
          "name": "stdout",
          "text": [
            "Downloading data from https://storage.googleapis.com/tensorflow/tf-keras-datasets/mnist.npz\n",
            "11493376/11490434 [==============================] - 0s 0us/step\n",
            "11501568/11490434 [==============================] - 0s 0us/step\n"
          ]
        }
      ]
    },
    {
      "cell_type": "code",
      "metadata": {
        "colab": {
          "base_uri": "https://localhost:8080/"
        },
        "id": "JeiYe7OuzdN6",
        "outputId": "e5038de3-41db-4ec2-a3bf-b79e79763c65"
      },
      "source": [
        "print(\"There are \", len(X_train), \"images in the training dataset\")     \n",
        "print(\"There are \", len(X_test), \"images in the test dataset\")   "
      ],
      "execution_count": 3,
      "outputs": [
        {
          "output_type": "stream",
          "name": "stdout",
          "text": [
            "There are  60000 images in the training dataset\n",
            "There are  10000 images in the test dataset\n"
          ]
        }
      ]
    },
    {
      "cell_type": "code",
      "metadata": {
        "colab": {
          "base_uri": "https://localhost:8080/"
        },
        "id": "9FNlcgiTzj1X",
        "outputId": "93cd0715-d971-4a4f-9679-d3489e5d367f"
      },
      "source": [
        "# Checking the shape of one image\n",
        "X_train[5].shape"
      ],
      "execution_count": 4,
      "outputs": [
        {
          "output_type": "execute_result",
          "data": {
            "text/plain": [
              "(28, 28)"
            ]
          },
          "metadata": {},
          "execution_count": 4
        }
      ]
    },
    {
      "cell_type": "code",
      "metadata": {
        "colab": {
          "base_uri": "https://localhost:8080/"
        },
        "id": "fo95HaLhzn9h",
        "outputId": "139d196e-dac4-4d78-aad5-deaa1822714e"
      },
      "source": [
        "X_train[5]"
      ],
      "execution_count": 5,
      "outputs": [
        {
          "output_type": "execute_result",
          "data": {
            "text/plain": [
              "array([[  0,   0,   0,   0,   0,   0,   0,   0,   0,   0,   0,   0,   0,\n",
              "          0,   0,   0,   0,   0,   0,   0,   0,   0,   0,   0,   0,   0,\n",
              "          0,   0],\n",
              "       [  0,   0,   0,   0,   0,   0,   0,   0,   0,   0,   0,   0,   0,\n",
              "          0,   0,   0,   0,   0,   0,   0,   0,   0,   0,   0,   0,   0,\n",
              "          0,   0],\n",
              "       [  0,   0,   0,   0,   0,   0,   0,   0,   0,   0,   0,   0,   0,\n",
              "          0,   0,   0,   0,   0,   0,   0,   0,   0,   0,   0,   0,   0,\n",
              "          0,   0],\n",
              "       [  0,   0,   0,   0,   0,   0,   0,   0,   0,   0,   0,   0,   0,\n",
              "          0,   0,   0,   0,   0,   0,   0,   0,   0,   0,   0,   0,   0,\n",
              "          0,   0],\n",
              "       [  0,   0,   0,   0,   0,   0,   0,   0,   0,   0,   0,   0,   0,\n",
              "          0,   0,   0,   0,   0,   0,   0,   0,   0,   0,   0,   0,   0,\n",
              "          0,   0],\n",
              "       [  0,   0,   0,   0,   0,   0,   0,   0,   0,   0,   0,   0,   0,\n",
              "          0,   0,  13,  25, 100, 122,   7,   0,   0,   0,   0,   0,   0,\n",
              "          0,   0],\n",
              "       [  0,   0,   0,   0,   0,   0,   0,   0,   0,   0,   0,   0,   0,\n",
              "         33, 151, 208, 252, 252, 252, 146,   0,   0,   0,   0,   0,   0,\n",
              "          0,   0],\n",
              "       [  0,   0,   0,   0,   0,   0,   0,   0,   0,   0,   0,  40, 152,\n",
              "        244, 252, 253, 224, 211, 252, 232,  40,   0,   0,   0,   0,   0,\n",
              "          0,   0],\n",
              "       [  0,   0,   0,   0,   0,   0,   0,   0,   0,  15, 152, 239, 252,\n",
              "        252, 252, 216,  31,  37, 252, 252,  60,   0,   0,   0,   0,   0,\n",
              "          0,   0],\n",
              "       [  0,   0,   0,   0,   0,   0,   0,   0,   0,  96, 252, 252, 252,\n",
              "        252, 217,  29,   0,  37, 252, 252,  60,   0,   0,   0,   0,   0,\n",
              "          0,   0],\n",
              "       [  0,   0,   0,   0,   0,   0,   0,   0,   0, 181, 252, 252, 220,\n",
              "        167,  30,   0,   0,  77, 252, 252,  60,   0,   0,   0,   0,   0,\n",
              "          0,   0],\n",
              "       [  0,   0,   0,   0,   0,   0,   0,   0,   0,  26, 128,  58,  22,\n",
              "          0,   0,   0,   0, 100, 252, 252,  60,   0,   0,   0,   0,   0,\n",
              "          0,   0],\n",
              "       [  0,   0,   0,   0,   0,   0,   0,   0,   0,   0,   0,   0,   0,\n",
              "          0,   0,   0,   0, 157, 252, 252,  60,   0,   0,   0,   0,   0,\n",
              "          0,   0],\n",
              "       [  0,   0,   0,   0,   0,   0,   0,   0,   0,   0,   0,   0,   0,\n",
              "        110, 121, 122, 121, 202, 252, 194,   3,   0,   0,   0,   0,   0,\n",
              "          0,   0],\n",
              "       [  0,   0,   0,   0,   0,   0,   0,   0,   0,   0,  10,  53, 179,\n",
              "        253, 253, 255, 253, 253, 228,  35,   0,   0,   0,   0,   0,   0,\n",
              "          0,   0],\n",
              "       [  0,   0,   0,   0,   0,   0,   0,   0,   5,  54, 227, 252, 243,\n",
              "        228, 170, 242, 252, 252, 231, 117,   6,   0,   0,   0,   0,   0,\n",
              "          0,   0],\n",
              "       [  0,   0,   0,   0,   0,   0,   0,   6,  78, 252, 252, 125,  59,\n",
              "          0,  18, 208, 252, 252, 252, 252,  87,   7,   0,   0,   0,   0,\n",
              "          0,   0],\n",
              "       [  0,   0,   0,   0,   0,   0,   5, 135, 252, 252, 180,  16,   0,\n",
              "         21, 203, 253, 247, 129, 173, 252, 252, 184,  66,  49,  49,   0,\n",
              "          0,   0],\n",
              "       [  0,   0,   0,   0,   0,   3, 136, 252, 241, 106,  17,   0,  53,\n",
              "        200, 252, 216,  65,   0,  14,  72, 163, 241, 252, 252, 223,   0,\n",
              "          0,   0],\n",
              "       [  0,   0,   0,   0,   0, 105, 252, 242,  88,  18,  73, 170, 244,\n",
              "        252, 126,  29,   0,   0,   0,   0,   0,  89, 180, 180,  37,   0,\n",
              "          0,   0],\n",
              "       [  0,   0,   0,   0,   0, 231, 252, 245, 205, 216, 252, 252, 252,\n",
              "        124,   3,   0,   0,   0,   0,   0,   0,   0,   0,   0,   0,   0,\n",
              "          0,   0],\n",
              "       [  0,   0,   0,   0,   0, 207, 252, 252, 252, 252, 178, 116,  36,\n",
              "          4,   0,   0,   0,   0,   0,   0,   0,   0,   0,   0,   0,   0,\n",
              "          0,   0],\n",
              "       [  0,   0,   0,   0,   0,  13,  93, 143, 121,  23,   6,   0,   0,\n",
              "          0,   0,   0,   0,   0,   0,   0,   0,   0,   0,   0,   0,   0,\n",
              "          0,   0],\n",
              "       [  0,   0,   0,   0,   0,   0,   0,   0,   0,   0,   0,   0,   0,\n",
              "          0,   0,   0,   0,   0,   0,   0,   0,   0,   0,   0,   0,   0,\n",
              "          0,   0],\n",
              "       [  0,   0,   0,   0,   0,   0,   0,   0,   0,   0,   0,   0,   0,\n",
              "          0,   0,   0,   0,   0,   0,   0,   0,   0,   0,   0,   0,   0,\n",
              "          0,   0],\n",
              "       [  0,   0,   0,   0,   0,   0,   0,   0,   0,   0,   0,   0,   0,\n",
              "          0,   0,   0,   0,   0,   0,   0,   0,   0,   0,   0,   0,   0,\n",
              "          0,   0],\n",
              "       [  0,   0,   0,   0,   0,   0,   0,   0,   0,   0,   0,   0,   0,\n",
              "          0,   0,   0,   0,   0,   0,   0,   0,   0,   0,   0,   0,   0,\n",
              "          0,   0],\n",
              "       [  0,   0,   0,   0,   0,   0,   0,   0,   0,   0,   0,   0,   0,\n",
              "          0,   0,   0,   0,   0,   0,   0,   0,   0,   0,   0,   0,   0,\n",
              "          0,   0]], dtype=uint8)"
            ]
          },
          "metadata": {},
          "execution_count": 5
        }
      ]
    },
    {
      "cell_type": "code",
      "metadata": {
        "colab": {
          "base_uri": "https://localhost:8080/"
        },
        "id": "ycItiyiSy1OQ",
        "outputId": "ff4ce06e-905c-496d-cf89-3a67ea119f02"
      },
      "source": [
        "X_train[5].shape"
      ],
      "execution_count": 6,
      "outputs": [
        {
          "output_type": "execute_result",
          "data": {
            "text/plain": [
              "(28, 28)"
            ]
          },
          "metadata": {},
          "execution_count": 6
        }
      ]
    },
    {
      "cell_type": "code",
      "metadata": {
        "colab": {
          "base_uri": "https://localhost:8080/",
          "height": 283
        },
        "id": "nAlrzyEHzr68",
        "outputId": "113147ee-4e3a-4443-d4bf-e9cb4aa4a09e"
      },
      "source": [
        "plt.imshow(X_train[5]) # imageımın 2 oldugunu değerlendiriyorum\n",
        "# plt.matshow(X_train[5])"
      ],
      "execution_count": 7,
      "outputs": [
        {
          "output_type": "execute_result",
          "data": {
            "text/plain": [
              "<matplotlib.image.AxesImage at 0x7f0fcf27ea50>"
            ]
          },
          "metadata": {},
          "execution_count": 7
        },
        {
          "output_type": "display_data",
          "data": {
            "image/png": "[encoded data removed]",
            "text/plain": [
              "<Figure size 432x288 with 1 Axes>"
            ]
          },
          "metadata": {
            "needs_background": "light"
          }
        }
      ]
    },
    {
      "cell_type": "code",
      "metadata": {
        "colab": {
          "base_uri": "https://localhost:8080/"
        },
        "id": "zP9FMA-D0Dho",
        "outputId": "05a02fb7-1027-44e0-84cd-858105fe8eb3"
      },
      "source": [
        "y_train[5] # kontrolunu yapıyorum evet 2 "
      ],
      "execution_count": 9,
      "outputs": [
        {
          "output_type": "execute_result",
          "data": {
            "text/plain": [
              "2"
            ]
          },
          "metadata": {},
          "execution_count": 9
        }
      ]
    },
    {
      "cell_type": "code",
      "metadata": {
        "colab": {
          "base_uri": "https://localhost:8080/",
          "height": 314
        },
        "id": "IPKvujQwz00v",
        "outputId": "dae0618f-1f42-47c0-9f52-eedde53632ff"
      },
      "source": [
        "num_rows, num_cols = 2, 5\n",
        "f, ax = plt.subplots(2, 5, figsize=(12,5),\n",
        "                     gridspec_kw={'wspace':0.03, 'hspace':0.01}, \n",
        "                     squeeze=True)\n",
        "\n",
        "for r in range(num_rows):\n",
        "    for c in range(num_cols):\n",
        "      \n",
        "        image_index = r * 5 + c\n",
        "        ax[r,c].axis(\"off\")\n",
        "        ax[r,c].imshow( X_train[image_index], cmap='gray')\n",
        "        ax[r,c].set_title('No. %d' % y_train[image_index])\n",
        "plt.show()\n",
        "plt.close()\n",
        "# train setimdeki imajlar bunlar"
      ],
      "execution_count": 10,
      "outputs": [
        {
          "output_type": "display_data",
          "data": {
            "image/png": "[encoded data removed]",
            "text/plain": [
              "<Figure size 864x360 with 10 Axes>"
            ]
          },
          "metadata": {
            "needs_background": "light"
          }
        }
      ]
    },
    {
      "cell_type": "markdown",
      "metadata": {
        "id": "-_pXVdp-y8Mo"
      },
      "source": [
        "## Data Preprocessing"
      ]
    },
    {
      "cell_type": "code",
      "metadata": {
        "colab": {
          "base_uri": "https://localhost:8080/"
        },
        "id": "_XspA3CDLpm6",
        "outputId": "271bd201-fba0-419f-c2dc-30df6ee6c664"
      },
      "source": [
        "X_train[5].min()"
      ],
      "execution_count": 11,
      "outputs": [
        {
          "output_type": "execute_result",
          "data": {
            "text/plain": [
              "0"
            ]
          },
          "metadata": {},
          "execution_count": 11
        }
      ]
    },
    {
      "cell_type": "code",
      "metadata": {
        "colab": {
          "base_uri": "https://localhost:8080/"
        },
        "id": "XJefIibxLqf2",
        "outputId": "fc6726fa-8415-4751-cce1-6db829713da9"
      },
      "source": [
        "X_train[5].max()"
      ],
      "execution_count": 12,
      "outputs": [
        {
          "output_type": "execute_result",
          "data": {
            "text/plain": [
              "255"
            ]
          },
          "metadata": {},
          "execution_count": 12
        }
      ]
    },
    {
      "cell_type": "code",
      "metadata": {
        "id": "tFfPkVRJuMJM"
      },
      "source": [
        "# 0 dan 255e oldukça fark var ve bunu scale etmem gerekiyor"
      ],
      "execution_count": null,
      "outputs": []
    },
    {
      "cell_type": "code",
      "metadata": {
        "id": "m_eSMmhJFqRA"
      },
      "source": [
        "X_train = X_train.astype('float32')\n",
        "X_test = X_test.astype('float32')\n",
        "X_train /= 255\n",
        "X_test /= 255\n",
        "# scale işlemini manuel yaptım yani normalize ettim"
      ],
      "execution_count": 14,
      "outputs": []
    },
    {
      "cell_type": "code",
      "metadata": {
        "colab": {
          "base_uri": "https://localhost:8080/"
        },
        "id": "-NqymetKL1Lb",
        "outputId": "ca3f7634-0f33-4ddf-997a-770ae83f98d5"
      },
      "source": [
        "X_train[5].min()"
      ],
      "execution_count": 15,
      "outputs": [
        {
          "output_type": "execute_result",
          "data": {
            "text/plain": [
              "0.0"
            ]
          },
          "metadata": {},
          "execution_count": 15
        }
      ]
    },
    {
      "cell_type": "code",
      "metadata": {
        "colab": {
          "base_uri": "https://localhost:8080/"
        },
        "id": "SOU_kW9nL1OD",
        "outputId": "a9d10aee-b419-4a1f-e788-88f5896cbbdb"
      },
      "source": [
        "X_train[5].max()"
      ],
      "execution_count": 16,
      "outputs": [
        {
          "output_type": "execute_result",
          "data": {
            "text/plain": [
              "0.003921569"
            ]
          },
          "metadata": {},
          "execution_count": 16
        }
      ]
    },
    {
      "cell_type": "code",
      "metadata": {
        "colab": {
          "base_uri": "https://localhost:8080/",
          "height": 283
        },
        "id": "Jrp0SbiHL7aA",
        "outputId": "4c9e4dce-0c91-49c7-850a-b18e82e1102d"
      },
      "source": [
        "plt.imshow(X_train[5])"
      ],
      "execution_count": 17,
      "outputs": [
        {
          "output_type": "execute_result",
          "data": {
            "text/plain": [
              "<matplotlib.image.AxesImage at 0x7f0fce9753d0>"
            ]
          },
          "metadata": {},
          "execution_count": 17
        },
        {
          "output_type": "display_data",
          "data": {
            "image/png": "[encoded data removed]",
            "text/plain": [
              "<Figure size 432x288 with 1 Axes>"
            ]
          },
          "metadata": {
            "needs_background": "light"
          }
        }
      ]
    },
    {
      "cell_type": "code",
      "metadata": {
        "id": "uk7qzToCFp-s"
      },
      "source": [
        "X_train = X_train.reshape(X_train.shape[0],28, 28, 1)  # 60bin sayıyı 28*28 olack şekilde siyah beyaz ayarladım\n",
        "X_test = X_test.reshape(X_test.shape[0], 28, 28, 1)"
      ],
      "execution_count": 19,
      "outputs": []
    },
    {
      "cell_type": "code",
      "metadata": {
        "colab": {
          "base_uri": "https://localhost:8080/"
        },
        "id": "5nLub1tMFqOc",
        "outputId": "576fff42-0512-41bc-f02d-b84395d9747f"
      },
      "source": [
        "X_train.shape, X_test.shape"
      ],
      "execution_count": 20,
      "outputs": [
        {
          "output_type": "execute_result",
          "data": {
            "text/plain": [
              "((60000, 28, 28, 1), (10000, 28, 28, 1))"
            ]
          },
          "metadata": {},
          "execution_count": 20
        }
      ]
    },
    {
      "cell_type": "code",
      "metadata": {
        "colab": {
          "base_uri": "https://localhost:8080/"
        },
        "id": "7r8BUJwuL-a6",
        "outputId": "cc22cd09-f282-41db-fb7d-5fd6cb103611"
      },
      "source": [
        "y_train "
      ],
      "execution_count": 31,
      "outputs": [
        {
          "output_type": "execute_result",
          "data": {
            "text/plain": [
              "array([5, 0, 4, ..., 5, 6, 8], dtype=uint8)"
            ]
          },
          "metadata": {},
          "execution_count": 31
        }
      ]
    },
    {
      "cell_type": "code",
      "metadata": {
        "id": "TnyVXRUovolo"
      },
      "source": [
        "# classification yapmam için bunları kategorical yapmam gerekiyor"
      ],
      "execution_count": null,
      "outputs": []
    },
    {
      "cell_type": "code",
      "metadata": {
        "id": "z3CBRoZ1GWHh"
      },
      "source": [
        "from tensorflow.keras.utils import to_categorical # y_traini categorik hale getirdim"
      ],
      "execution_count": 29,
      "outputs": []
    },
    {
      "cell_type": "code",
      "metadata": {
        "colab": {
          "base_uri": "https://localhost:8080/"
        },
        "id": "rwav3vH5FqT9",
        "outputId": "c9562f48-e682-409f-ed5a-3455895f7b5b"
      },
      "source": [
        "Y_train = to_categorical(y_train, 10) # 10 sınıfa dönüştür\n",
        "Y_test = to_categorical(y_test, 10)\n",
        "Y_test.shape"
      ],
      "execution_count": 30,
      "outputs": [
        {
          "output_type": "execute_result",
          "data": {
            "text/plain": [
              "(10000, 10)"
            ]
          },
          "metadata": {},
          "execution_count": 30
        }
      ]
    },
    {
      "cell_type": "code",
      "metadata": {
        "id": "EAvdD1-IHYaV"
      },
      "source": [
        "from tensorflow.keras.models import Sequential\n",
        "from tensorflow.keras.layers import Dense, Conv2D, MaxPool2D, Flatten"
      ],
      "execution_count": 32,
      "outputs": []
    },
    {
      "cell_type": "code",
      "metadata": {
        "id": "1XKYFc5cGD92"
      },
      "source": [
        "model = Sequential()\n",
        "\n",
        "model.add(Conv2D(filters=32, kernel_size=(3,3),input_shape=(28, 28, 1), activation='relu',))\n",
        "                # 32 filtre koy   ( modelin class sayısına baglıdır)  \n",
        "                   # filtre boyutu 3*3 \n",
        "                       # sisteme gelecek veriler 28*28 ve siyah beyaz olsun  \n",
        "\n",
        "\n",
        "model.add(MaxPool2D(pool_size=(2, 2))) #pikseller çok fazla ise artırılabilir ama 2*2 default tercih sebebi\n",
        "\n",
        "model.add(Flatten()) # flatten matrisleri vektöre dönüştürür\n",
        "\n",
        "model.add(Dense(128, activation='relu')) # 128 nöron , nöral network\n",
        "\n",
        "model.add(Dense(10, activation='softmax')) # 10 clasımız var dolayısıyla softmax tercih edilir\n",
        "\n",
        "model.compile(loss='categorical_crossentropy', \n",
        "              optimizer='adam',\n",
        "              metrics=['accuracy'])"
      ],
      "execution_count": 35,
      "outputs": []
    },
    {
      "cell_type": "markdown",
      "metadata": {
        "id": "d4GuNNrC1ihO"
      },
      "source": [
        "**A sample example showing the conversion of 3D data to 2D**\n",
        "![3Dto2D](https://dphi-courses.s3.ap-south-1.amazonaws.com/Deep+Learning+Bootcamp/3D+to++2D.png)"
      ]
    },
    {
      "cell_type": "code",
      "metadata": {
        "colab": {
          "base_uri": "https://localhost:8080/"
        },
        "id": "7dlzbf8cLVu0",
        "outputId": "74a9d85c-c2cf-4e6e-9690-323464840164"
      },
      "source": [
        "model.summary()"
      ],
      "execution_count": 36,
      "outputs": [
        {
          "output_type": "stream",
          "name": "stdout",
          "text": [
            "Model: \"sequential_2\"\n",
            "_________________________________________________________________\n",
            "Layer (type)                 Output Shape              Param #   \n",
            "=================================================================\n",
            "conv2d_2 (Conv2D)            (None, 26, 26, 32)        320       \n",
            "_________________________________________________________________\n",
            "max_pooling2d_2 (MaxPooling2 (None, 13, 13, 32)        0         \n",
            "_________________________________________________________________\n",
            "flatten_2 (Flatten)          (None, 5408)              0         \n",
            "_________________________________________________________________\n",
            "dense_4 (Dense)              (None, 128)               692352    \n",
            "_________________________________________________________________\n",
            "dense_5 (Dense)              (None, 10)                1290      \n",
            "=================================================================\n",
            "Total params: 693,962\n",
            "Trainable params: 693,962\n",
            "Non-trainable params: 0\n",
            "_________________________________________________________________\n"
          ]
        }
      ]
    },
    {
      "cell_type": "code",
      "metadata": {
        "id": "hOuwgRVZGEAu"
      },
      "source": [
        "from tensorflow.keras.callbacks import EarlyStopping # modelim overfite gitmesin"
      ],
      "execution_count": 38,
      "outputs": []
    },
    {
      "cell_type": "code",
      "metadata": {
        "id": "rtIURzRFGEDN"
      },
      "source": [
        "early_stop = EarlyStopping(monitor='val_loss',patience=2)"
      ],
      "execution_count": 39,
      "outputs": []
    },
    {
      "cell_type": "code",
      "metadata": {
        "colab": {
          "base_uri": "https://localhost:8080/"
        },
        "id": "-IDJimxdKq-k",
        "outputId": "1ac81ac1-5b1c-4739-daf0-68bba64e6c4a"
      },
      "source": [
        "model.fit(X_train, Y_train, batch_size=32, epochs=10, validation_data=(X_test,Y_test),callbacks=[early_stop])\n"
      ],
      "execution_count": 41,
      "outputs": [
        {
          "output_type": "stream",
          "name": "stdout",
          "text": [
            "Epoch 1/10\n",
            "1875/1875 [==============================] - 35s 19ms/step - loss: 0.2970 - accuracy: 0.9112 - val_loss: 0.2663 - val_accuracy: 0.9230\n",
            "Epoch 2/10\n",
            "1875/1875 [==============================] - 35s 19ms/step - loss: 0.2586 - accuracy: 0.9235 - val_loss: 0.2342 - val_accuracy: 0.9317\n",
            "Epoch 3/10\n",
            "1875/1875 [==============================] - 35s 19ms/step - loss: 0.2275 - accuracy: 0.9317 - val_loss: 0.2015 - val_accuracy: 0.9391\n",
            "Epoch 4/10\n",
            "1875/1875 [==============================] - 35s 19ms/step - loss: 0.2005 - accuracy: 0.9404 - val_loss: 0.1808 - val_accuracy: 0.9449\n",
            "Epoch 5/10\n",
            "1875/1875 [==============================] - 35s 19ms/step - loss: 0.1806 - accuracy: 0.9460 - val_loss: 0.1722 - val_accuracy: 0.9480\n",
            "Epoch 6/10\n",
            "1875/1875 [==============================] - 35s 19ms/step - loss: 0.1652 - accuracy: 0.9508 - val_loss: 0.1543 - val_accuracy: 0.9534\n",
            "Epoch 7/10\n",
            "1875/1875 [==============================] - 36s 19ms/step - loss: 0.1516 - accuracy: 0.9543 - val_loss: 0.1400 - val_accuracy: 0.9585\n",
            "Epoch 8/10\n",
            "1875/1875 [==============================] - 35s 19ms/step - loss: 0.1402 - accuracy: 0.9576 - val_loss: 0.1352 - val_accuracy: 0.9584\n",
            "Epoch 9/10\n",
            "1875/1875 [==============================] - 36s 19ms/step - loss: 0.1308 - accuracy: 0.9603 - val_loss: 0.1300 - val_accuracy: 0.9595\n",
            "Epoch 10/10\n",
            "1875/1875 [==============================] - 36s 19ms/step - loss: 0.1232 - accuracy: 0.9625 - val_loss: 0.1199 - val_accuracy: 0.9628\n"
          ]
        },
        {
          "output_type": "execute_result",
          "data": {
            "text/plain": [
              "<keras.callbacks.History at 0x7f0fc6e4e390>"
            ]
          },
          "metadata": {},
          "execution_count": 41
        }
      ]
    },
    {
      "cell_type": "code",
      "metadata": {
        "colab": {
          "base_uri": "https://localhost:8080/"
        },
        "id": "wNmOLqBv1Kqn",
        "outputId": "29bf02e2-70d5-4775-cc52-7c9a6856b027"
      },
      "source": [
        "model.metrics_names"
      ],
      "execution_count": 42,
      "outputs": [
        {
          "output_type": "execute_result",
          "data": {
            "text/plain": [
              "['loss', 'accuracy']"
            ]
          },
          "metadata": {},
          "execution_count": 42
        }
      ]
    },
    {
      "cell_type": "code",
      "metadata": {
        "colab": {
          "base_uri": "https://localhost:8080/"
        },
        "id": "Brzdl3zN2wrh",
        "outputId": "1f60d4c5-8758-473d-896a-55c5785589dc"
      },
      "source": [
        "model.history.history"
      ],
      "execution_count": 43,
      "outputs": [
        {
          "output_type": "execute_result",
          "data": {
            "text/plain": [
              "{'accuracy': [0.9111833572387695,\n",
              "  0.9234833121299744,\n",
              "  0.9316999912261963,\n",
              "  0.9404000043869019,\n",
              "  0.9460333585739136,\n",
              "  0.9508166909217834,\n",
              "  0.9543333053588867,\n",
              "  0.9575833082199097,\n",
              "  0.960266649723053,\n",
              "  0.9624666571617126],\n",
              " 'loss': [0.297014057636261,\n",
              "  0.2585813105106354,\n",
              "  0.22747108340263367,\n",
              "  0.2004752904176712,\n",
              "  0.18057626485824585,\n",
              "  0.16519300639629364,\n",
              "  0.15163609385490417,\n",
              "  0.14021067321300507,\n",
              "  0.1307951956987381,\n",
              "  0.12323630601167679],\n",
              " 'val_accuracy': [0.9229999780654907,\n",
              "  0.9316999912261963,\n",
              "  0.9391000270843506,\n",
              "  0.9448999762535095,\n",
              "  0.9480000138282776,\n",
              "  0.9534000158309937,\n",
              "  0.9585000276565552,\n",
              "  0.9584000110626221,\n",
              "  0.9595000147819519,\n",
              "  0.9628000259399414],\n",
              " 'val_loss': [0.26627302169799805,\n",
              "  0.2341826856136322,\n",
              "  0.20147310197353363,\n",
              "  0.18076956272125244,\n",
              "  0.17222991585731506,\n",
              "  0.15429507195949554,\n",
              "  0.14002223312854767,\n",
              "  0.13520829379558563,\n",
              "  0.12996822595596313,\n",
              "  0.11990179121494293]}"
            ]
          },
          "metadata": {},
          "execution_count": 43
        }
      ]
    },
    {
      "cell_type": "code",
      "metadata": {
        "colab": {
          "base_uri": "https://localhost:8080/",
          "height": 205
        },
        "id": "2zYPEYGK2qyc",
        "outputId": "bc5613f2-6f9e-40e7-a921-5c5695eb958b"
      },
      "source": [
        "summary = pd.DataFrame(model.history.history)\n",
        "summary.head() # overfit var mı onu karşılaştırmak için df yaptım"
      ],
      "execution_count": 44,
      "outputs": [
        {
          "output_type": "execute_result",
          "data": {
            "text/html": [
              "<div>\n",
              "<style scoped>\n",
              "    .dataframe tbody tr th:only-of-type {\n",
              "        vertical-align: middle;\n",
              "    }\n",
              "\n",
              "    .dataframe tbody tr th {\n",
              "        vertical-align: top;\n",
              "    }\n",
              "\n",
              "    .dataframe thead th {\n",
              "        text-align: right;\n",
              "    }\n",
              "</style>\n",
              "<table border=\"1\" class=\"dataframe\">\n",
              "  <thead>\n",
              "    <tr style=\"text-align: right;\">\n",
              "      <th></th>\n",
              "      <th>loss</th>\n",
              "      <th>accuracy</th>\n",
              "      <th>val_loss</th>\n",
              "      <th>val_accuracy</th>\n",
              "    </tr>\n",
              "  </thead>\n",
              "  <tbody>\n",
              "    <tr>\n",
              "      <th>0</th>\n",
              "      <td>0.297014</td>\n",
              "      <td>0.911183</td>\n",
              "      <td>0.266273</td>\n",
              "      <td>0.9230</td>\n",
              "    </tr>\n",
              "    <tr>\n",
              "      <th>1</th>\n",
              "      <td>0.258581</td>\n",
              "      <td>0.923483</td>\n",
              "      <td>0.234183</td>\n",
              "      <td>0.9317</td>\n",
              "    </tr>\n",
              "    <tr>\n",
              "      <th>2</th>\n",
              "      <td>0.227471</td>\n",
              "      <td>0.931700</td>\n",
              "      <td>0.201473</td>\n",
              "      <td>0.9391</td>\n",
              "    </tr>\n",
              "    <tr>\n",
              "      <th>3</th>\n",
              "      <td>0.200475</td>\n",
              "      <td>0.940400</td>\n",
              "      <td>0.180770</td>\n",
              "      <td>0.9449</td>\n",
              "    </tr>\n",
              "    <tr>\n",
              "      <th>4</th>\n",
              "      <td>0.180576</td>\n",
              "      <td>0.946033</td>\n",
              "      <td>0.172230</td>\n",
              "      <td>0.9480</td>\n",
              "    </tr>\n",
              "  </tbody>\n",
              "</table>\n",
              "</div>"
            ],
            "text/plain": [
              "       loss  accuracy  val_loss  val_accuracy\n",
              "0  0.297014  0.911183  0.266273        0.9230\n",
              "1  0.258581  0.923483  0.234183        0.9317\n",
              "2  0.227471  0.931700  0.201473        0.9391\n",
              "3  0.200475  0.940400  0.180770        0.9449\n",
              "4  0.180576  0.946033  0.172230        0.9480"
            ]
          },
          "metadata": {},
          "execution_count": 44
        }
      ]
    },
    {
      "cell_type": "code",
      "metadata": {
        "colab": {
          "base_uri": "https://localhost:8080/",
          "height": 406
        },
        "id": "XelPrR8324J7",
        "outputId": "2aa9b8f5-84c9-43fc-8884-e3bbd555e746"
      },
      "source": [
        "plt.figure(figsize=(10,6))\n",
        "plt.plot(summary.loss)\n",
        "plt.plot(summary.val_loss)\n",
        "plt.ylabel(\"Loss\")\n",
        "plt.xlabel(\"Epoch\")"
      ],
      "execution_count": 45,
      "outputs": [
        {
          "output_type": "execute_result",
          "data": {
            "text/plain": [
              "Text(0.5, 0, 'Epoch')"
            ]
          },
          "metadata": {},
          "execution_count": 45
        },
        {
          "output_type": "display_data",
          "data": {
            "image/png": "[encoded data removed]",
            "text/plain": [
              "<Figure size 720x432 with 1 Axes>"
            ]
          },
          "metadata": {
            "needs_background": "light"
          }
        }
      ]
    },
    {
      "cell_type": "code",
      "metadata": {
        "colab": {
          "base_uri": "https://localhost:8080/",
          "height": 406
        },
        "id": "R4sKogEX3KKr",
        "outputId": "0e364d63-8a58-4923-bf09-74b68ffdbb7b"
      },
      "source": [
        "plt.figure(figsize=(10,6))\n",
        "plt.plot(summary.accuracy)\n",
        "plt.plot(summary.val_accuracy)\n",
        "plt.ylabel(\"Accuracy\")\n",
        "plt.xlabel(\"Epoch\")"
      ],
      "execution_count": 46,
      "outputs": [
        {
          "output_type": "execute_result",
          "data": {
            "text/plain": [
              "Text(0.5, 0, 'Epoch')"
            ]
          },
          "metadata": {},
          "execution_count": 46
        },
        {
          "output_type": "display_data",
          "data": {
            "image/png": "[encoded data removed]",
            "text/plain": [
              "<Figure size 720x432 with 1 Axes>"
            ]
          },
          "metadata": {
            "needs_background": "light"
          }
        }
      ]
    },
    {
      "cell_type": "code",
      "metadata": {
        "colab": {
          "base_uri": "https://localhost:8080/"
        },
        "id": "1naFYlgT35-S",
        "outputId": "437df992-16f2-4d33-f4c7-b7518d42b9fc"
      },
      "source": [
        "print(model.evaluate(X_test,Y_test,verbose=1)) # 1. loss 2. accuracy değerini verir"
      ],
      "execution_count": 48,
      "outputs": [
        {
          "output_type": "stream",
          "name": "stdout",
          "text": [
            "313/313 [==============================] - 2s 6ms/step - loss: 0.1199 - accuracy: 0.9628\n",
            "[0.11990179121494293, 0.9628000259399414]\n"
          ]
        }
      ]
    },
    {
      "cell_type": "code",
      "metadata": {
        "id": "3qZywTaf4Nay"
      },
      "source": [
        "from sklearn.metrics import classification_report,confusion_matrix"
      ],
      "execution_count": 49,
      "outputs": []
    },
    {
      "cell_type": "code",
      "metadata": {
        "id": "IOAxLbRQ4cMe"
      },
      "source": [
        "preds = model.predict(X_test) # olasıkları bulduk\n"
      ],
      "execution_count": 52,
      "outputs": []
    },
    {
      "cell_type": "code",
      "metadata": {
        "id": "P54bs5fIQ1EU"
      },
      "source": [
        "predictions= np.argmax(preds, axis=1) # en büyük değerin indexine bktım"
      ],
      "execution_count": 53,
      "outputs": []
    },
    {
      "cell_type": "code",
      "metadata": {
        "colab": {
          "base_uri": "https://localhost:8080/"
        },
        "id": "HzB8GiCOMr2l",
        "outputId": "c8621c80-f143-4aad-a2f1-e82daa74e83c"
      },
      "source": [
        "predictions"
      ],
      "execution_count": 54,
      "outputs": [
        {
          "output_type": "execute_result",
          "data": {
            "text/plain": [
              "array([7, 2, 1, ..., 4, 5, 6])"
            ]
          },
          "metadata": {},
          "execution_count": 54
        }
      ]
    },
    {
      "cell_type": "code",
      "metadata": {
        "colab": {
          "base_uri": "https://localhost:8080/"
        },
        "id": "HUl6w6Jf423N",
        "outputId": "20c4c0b8-24c8-44d5-e70d-79999a9ae8c0"
      },
      "source": [
        "print(classification_report(y_test, predictions))\n",
        "# classlarımın tahmin değerleri yüksek"
      ],
      "execution_count": 56,
      "outputs": [
        {
          "output_type": "stream",
          "name": "stdout",
          "text": [
            "              precision    recall  f1-score   support\n",
            "\n",
            "           0       0.96      0.99      0.98       980\n",
            "           1       0.98      0.99      0.98      1135\n",
            "           2       0.96      0.96      0.96      1032\n",
            "           3       0.95      0.97      0.96      1010\n",
            "           4       0.98      0.95      0.96       982\n",
            "           5       0.95      0.97      0.96       892\n",
            "           6       0.98      0.96      0.97       958\n",
            "           7       0.96      0.96      0.96      1028\n",
            "           8       0.97      0.94      0.95       974\n",
            "           9       0.94      0.95      0.95      1009\n",
            "\n",
            "    accuracy                           0.96     10000\n",
            "   macro avg       0.96      0.96      0.96     10000\n",
            "weighted avg       0.96      0.96      0.96     10000\n",
            "\n"
          ]
        }
      ]
    },
    {
      "cell_type": "code",
      "metadata": {
        "colab": {
          "base_uri": "https://localhost:8080/"
        },
        "id": "weQW_anSNmj8",
        "outputId": "35d972c2-d30a-4347-f489-1fb7cc0e64ad"
      },
      "source": [
        "print(confusion_matrix(y_test, predictions))"
      ],
      "execution_count": 57,
      "outputs": [
        {
          "output_type": "stream",
          "name": "stdout",
          "text": [
            "[[ 968    0    1    3    0    3    2    1    2    0]\n",
            " [   0 1123    3    1    0    1    3    0    4    0]\n",
            " [  10    1  990    6    3    2    3    9    8    0]\n",
            " [   0    0    8  978    1    7    0    8    3    5]\n",
            " [   1    1    8    0  928    2    3    3    2   34]\n",
            " [   4    1    0   12    0  861    4    1    5    4]\n",
            " [   9    4    6    2    2   10  920    1    4    0]\n",
            " [   1    9   13    3    0    1    0  983    2   16]\n",
            " [   5    2    4   14    6   10    6    7  915    5]\n",
            " [   6    6    1   11    8    6    1    7    1  962]]\n"
          ]
        }
      ]
    },
    {
      "cell_type": "code",
      "metadata": {
        "colab": {
          "base_uri": "https://localhost:8080/"
        },
        "id": "3DyaGeFU46Hv",
        "outputId": "12485faf-05db-45c1-8aec-eb53f18b45e5"
      },
      "source": [
        "score = model.evaluate(X_test, Y_test, verbose=0)\n",
        "print('Test loss:', score[0])\n",
        "print('Test accuracy:', score[1])"
      ],
      "execution_count": 58,
      "outputs": [
        {
          "output_type": "stream",
          "name": "stdout",
          "text": [
            "Test loss: 0.11990179121494293\n",
            "Test accuracy: 0.9628000259399414\n"
          ]
        }
      ]
    },
    {
      "cell_type": "code",
      "metadata": {
        "id": "WduIUJj64rIp"
      },
      "source": [
        "my_number = X_test[5] # bir değer alıp bakalım xtestin 0. indexi"
      ],
      "execution_count": 65,
      "outputs": []
    },
    {
      "cell_type": "code",
      "metadata": {
        "colab": {
          "base_uri": "https://localhost:8080/",
          "height": 283
        },
        "id": "18_nBUbAN1fh",
        "outputId": "35057783-dfd8-4164-ba18-9d9aa9a001f7"
      },
      "source": [
        "plt.imshow(my_number.reshape(28,28)) # "
      ],
      "execution_count": 66,
      "outputs": [
        {
          "output_type": "execute_result",
          "data": {
            "text/plain": [
              "<matplotlib.image.AxesImage at 0x7f0fc3e28390>"
            ]
          },
          "metadata": {},
          "execution_count": 66
        },
        {
          "output_type": "display_data",
          "data": {
            "image/png": "[encoded data removed]",
            "text/plain": [
              "<Figure size 432x288 with 1 Axes>"
            ]
          },
          "metadata": {
            "needs_background": "light"
          }
        }
      ]
    },
    {
      "cell_type": "code",
      "metadata": {
        "colab": {
          "base_uri": "https://localhost:8080/"
        },
        "id": "1DCFzSFtOGZF",
        "outputId": "d9195ac6-a525-4f4f-b903-40d8615423dc"
      },
      "source": [
        "model.predict(my_number.reshape(1,28,28,1)) #üstteki 7 yi tahmin ettirelim , kerasın algılayacagı sekilde ve siyah beyaz olacak şekilde\n",
        "# my_numberin hangi classa denk geldiginin ihtimal değerlerini verdi bu bize bi şey ifade etmiyor"
      ],
      "execution_count": 70,
      "outputs": [
        {
          "output_type": "execute_result",
          "data": {
            "text/plain": [
              "array([[2.5130228e-07, 9.9438357e-01, 1.5329642e-04, 2.2620638e-04,\n",
              "        2.5500826e-06, 1.7479438e-06, 3.0571107e-07, 5.1523112e-03,\n",
              "        7.3718642e-05, 5.9999597e-06]], dtype=float32)"
            ]
          },
          "metadata": {},
          "execution_count": 70
        }
      ]
    },
    {
      "cell_type": "code",
      "metadata": {
        "colab": {
          "base_uri": "https://localhost:8080/"
        },
        "id": "zetmO1KEN4ro",
        "outputId": "568aabe2-d85d-4f8c-85d0-17678bece38d"
      },
      "source": [
        "# SHAPE --> (num_images,width,height,color_channels)\n",
        "# numpydaki yerini göstermek icin argmax ile gösterdik ve  1 döndürdü yani modelimiz doğru tahmin etti \n",
        "np.argmax(model.predict(my_number.reshape(1,28,28,1)), axis=1)"
      ],
      "execution_count": 71,
      "outputs": [
        {
          "output_type": "execute_result",
          "data": {
            "text/plain": [
              "array([1])"
            ]
          },
          "metadata": {},
          "execution_count": 71
        }
      ]
    },
    {
      "cell_type": "code",
      "metadata": {
        "id": "OuF9luxd1p56"
      },
      "source": [
        "model.save(\"cnn-1.h5\")"
      ],
      "execution_count": 72,
      "outputs": []
    },
    {
      "cell_type": "code",
      "metadata": {
        "id": "c4nSjrxc28pa"
      },
      "source": [
        ""
      ],
      "execution_count": null,
      "outputs": []
    }
  ]
}