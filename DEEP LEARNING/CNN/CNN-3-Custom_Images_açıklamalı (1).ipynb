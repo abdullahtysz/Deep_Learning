{
 "cells": [
  {
   "cell_type": "markdown",
   "metadata": {},
   "source": [
    "\n",
    "## CNN With Custom Images\n",
    "\n",
    "The dataset contains 2 folders - Infected - Uninfected\n",
    "\n",
    "And a total of 27,558 images.\n",
    "\n",
    "\n",
    "This Dataset is taken from the official NIH Website: https://ceb.nlm.nih.gov/repositories/malaria-datasets/ "
   ]
  },
  {
   "cell_type": "code",
   "execution_count": null,
   "metadata": {},
   "outputs": [],
   "source": [
    "import os\n",
    "import pandas as pd\n",
    "import numpy as np\n",
    "import seaborn as sns\n",
    "import matplotlib.pyplot as plt\n",
    "from matplotlib.image import imread\n",
    "import warnings\n",
    "warnings.filterwarnings('ignore')"
   ]
  },
  {
   "cell_type": "code",
   "execution_count": null,
   "metadata": {},
   "outputs": [],
   "source": [
    "pwd"
   ]
  },
  {
   "cell_type": "code",
   "execution_count": null,
   "metadata": {},
   "outputs": [],
   "source": [
    "my_data_dir = \"C:\\\\Users\\APO\\Desktop\\cell_images\\cell_images\""
   ]
  },
  {
   "cell_type": "code",
   "execution_count": null,
   "metadata": {},
   "outputs": [],
   "source": [
    "# CONFIRM THAT THIS REPORTS BACK 'test', and 'train'\n",
    "os.listdir(my_data_dir) "
   ]
  },
  {
   "cell_type": "code",
   "execution_count": null,
   "metadata": {},
   "outputs": [],
   "source": [
    "test_path = my_data_dir+'\\\\test\\\\'  # test ve train dosyalarıma ulaştım \n",
    "train_path = my_data_dir+'\\\\train\\\\'"
   ]
  },
  {
   "cell_type": "code",
   "execution_count": null,
   "metadata": {},
   "outputs": [],
   "source": [
    "os.listdir(test_path) # ilgili dosyaya çift tıklama gibi düşünebiliriz "
   ]
  },
  {
   "cell_type": "code",
   "execution_count": null,
   "metadata": {},
   "outputs": [],
   "source": [
    "os.listdir(train_path)"
   ]
  },
  {
   "cell_type": "code",
   "execution_count": null,
   "metadata": {},
   "outputs": [],
   "source": [
    "os.listdir(train_path+'\\\\parasitized') # ilgili klasördeki tüm dosyalar"
   ]
  },
  {
   "cell_type": "code",
   "execution_count": null,
   "metadata": {},
   "outputs": [],
   "source": [
    "os.listdir(train_path+'\\\\parasitized')[9] # 9.yu aldı"
   ]
  },
  {
   "cell_type": "code",
   "execution_count": null,
   "metadata": {},
   "outputs": [],
   "source": [
    "para_cell = train_path+'\\\\parasitized'+'\\\\C100P61ThinF_IMG_20150918_144104_cell_171.png'"
   ]
  },
  {
   "cell_type": "code",
   "execution_count": null,
   "metadata": {},
   "outputs": [],
   "source": [
    "imread(para_cell)\n",
    "\n",
    "# parasitized klasöründeki 9. indeksteki resmin matrislerini görüyorum."
   ]
  },
  {
   "cell_type": "code",
   "execution_count": null,
   "metadata": {},
   "outputs": [],
   "source": [
    "para_img= imread(para_cell)\n",
    "\n",
    "# bu image in matrislerini rahat kullanabilmek için bir değişkene atadım."
   ]
  },
  {
   "cell_type": "code",
   "execution_count": null,
   "metadata": {},
   "outputs": [],
   "source": [
    "plt.imshow(para_img)\n",
    "\n",
    "# bu image'i imshow fonksiyonu ile görebiliyorum. Bu enfekte olmuş bir hücre fotoğrafı"
   ]
  },
  {
   "cell_type": "code",
   "execution_count": null,
   "metadata": {},
   "outputs": [],
   "source": [
    "para_img.shape\n",
    "\n",
    "# 142 ye 139 pikselden oluşan ve renkli (3) bir image"
   ]
  },
  {
   "cell_type": "code",
   "execution_count": null,
   "metadata": {},
   "outputs": [],
   "source": [
    "os.listdir(train_path+'\\\\uninfected')"
   ]
  },
  {
   "cell_type": "code",
   "execution_count": null,
   "metadata": {},
   "outputs": [],
   "source": [
    "# bir de enfekte olmayan bir hücre görünümüne bakalım.\n",
    "\n",
    "uninfected_cell_path = train_path+'\\\\uninfected\\\\'+os.listdir(train_path+'\\\\uninfected')[7]"
   ]
  },
  {
   "cell_type": "code",
   "execution_count": null,
   "metadata": {
    "scrolled": true
   },
   "outputs": [],
   "source": [
    "imread(uninfected_cell_path)"
   ]
  },
  {
   "cell_type": "code",
   "execution_count": null,
   "metadata": {},
   "outputs": [],
   "source": [
    "unifected_cell = imread(uninfected_cell_path)\n",
    "plt.imshow(unifected_cell) # enfekte olmamış bir hücreye baktım"
   ]
  },
  {
   "cell_type": "markdown",
   "metadata": {},
   "source": [
    "**Let's check how many images there are.**"
   ]
  },
  {
   "cell_type": "code",
   "execution_count": null,
   "metadata": {},
   "outputs": [],
   "source": [
    "len(os.listdir(train_path+'\\\\parasitized'))\n",
    "\n",
    "# enfekte olmuş (parasitized) 12480 image mevcut."
   ]
  },
  {
   "cell_type": "code",
   "execution_count": null,
   "metadata": {},
   "outputs": [],
   "source": [
    "len(os.listdir(train_path+'\\\\uninfected'))\n",
    "\n",
    "# enfekte olmmmış (uninfected) 12480 image mevcut."
   ]
  },
  {
   "cell_type": "markdown",
   "metadata": {},
   "source": [
    "**Let's find out the average dimensions of these images.**"
   ]
  },
  {
   "cell_type": "code",
   "execution_count": null,
   "metadata": {},
   "outputs": [],
   "source": [
    "unifected_cell.shape\n",
    "\n",
    "# 136 ye 148 pikselden oluşan ve renkli (3) bir image"
   ]
  },
  {
   "cell_type": "code",
   "execution_count": null,
   "metadata": {},
   "outputs": [],
   "source": [
    "para_img.shape\n",
    "\n",
    "# pikselleri dolayısıyla boyutları farklı. \n",
    "# Bu şekilde modele sokamam. hepsinin aynı büyüklükte olması lazım. "
   ]
  },
  {
   "cell_type": "code",
   "execution_count": null,
   "metadata": {},
   "outputs": [],
   "source": [
    " # klasördeki resimlerin x ve y eksen değerlerini buluyorum\n",
    "x = [] \n",
    "y = []\n",
    "for image in os.listdir(test_path+'\\\\uninfected'):\n",
    "    \n",
    "    img = imread(test_path+'\\\\uninfected'+'\\\\'+image)\n",
    "    d1,d2,colors = img.shape    # tuple unpacking yaparak d1,d2 ve colors'a atama yapıyorum\n",
    "    x.append(d1)\n",
    "    y.append(d2)\n",
    "    \n",
    "# uninfected klasöründeki tüm image leri inceleycek ve bana tüm x ve y değerlerini liste olarak getirecek"
   ]
  },
  {
   "cell_type": "code",
   "execution_count": null,
   "metadata": {},
   "outputs": [],
   "source": [
    "y"
   ]
  },
  {
   "cell_type": "code",
   "execution_count": null,
   "metadata": {},
   "outputs": [],
   "source": [
    "sns.scatterplot(x,y)\n",
    "\n",
    "# scatterplot ile boyuların dağılımına bakıyorum. \n",
    "# x ve y nin ortalama piksel boyutu 130 gibi."
   ]
  },
  {
   "cell_type": "code",
   "execution_count": null,
   "metadata": {},
   "outputs": [],
   "source": [
    "np.mean(x)\n",
    "\n",
    "# x lerin piksel ortalaması 130.92"
   ]
  },
  {
   "cell_type": "code",
   "execution_count": null,
   "metadata": {},
   "outputs": [],
   "source": [
    "np.mean(y)\n",
    "\n",
    "# y lerin piksel ortalaması 130.75"
   ]
  },
  {
   "cell_type": "code",
   "execution_count": null,
   "metadata": {},
   "outputs": [],
   "source": [
    "image_shape = (130,130,3)\n",
    "\n",
    "#  tüm fotoğrafların boyutunu ortalama değere yakın bir değere eşitledim.\n",
    "\n",
    "#  130a 130 dan küçük olan imagelerin kenarlarını 0 lar ile dolduracak\n",
    "# bundan büyük olan imageleri 130a 130 olacak şekilde kırpacak.\n",
    "# bu durumda enfekte olmuş alan kenar bölgelere yakın ise kırpıldığında bunun atılma riski var .\n",
    "# imagelerde kenarlarda enfekte alanlar olup olmadığına bakılıp boyutu bu alanlar içeride kalacak şekilde ayarlanabilir."
   ]
  },
  {
   "cell_type": "markdown",
   "metadata": {},
   "source": [
    "## Preparing the Data for the model"
   ]
  },
  {
   "cell_type": "code",
   "execution_count": null,
   "metadata": {},
   "outputs": [],
   "source": []
  },
  {
   "cell_type": "code",
   "execution_count": null,
   "metadata": {},
   "outputs": [],
   "source": [
    "# daha önce bu kodları kullanarak uninfected_cell değişkenine atama yapmıştık.\n",
    "\n",
    "# uninfected_cell_path = train_path+'\\\\uninfected\\\\'+os.listdir(train_path+'\\\\uninfected')[7]\n",
    "# unifected_cell = imread(uninfected_cell_path)"
   ]
  },
  {
   "cell_type": "code",
   "execution_count": null,
   "metadata": {},
   "outputs": [],
   "source": [
    "unifected_cell.max()"
   ]
  },
  {
   "cell_type": "code",
   "execution_count": null,
   "metadata": {},
   "outputs": [],
   "source": [
    "para_img.max()\n",
    "\n",
    "# maksimum değerlere bakarsak datamı scale etmeme gerek yok."
   ]
  },
  {
   "cell_type": "code",
   "execution_count": null,
   "metadata": {},
   "outputs": [],
   "source": [
    "# dl de temel mantık cok fazla oğrenme işlemi gercekleştirmek oldugu için , \n",
    "# elimizde yeteri kadar image datası yok ise model bundan bi şey ogreneemez\n",
    "# bu noktada aynı imajın farklı varysyonlarını uretıp modelimin öğrenmesini pekiştirebiliriz\n",
    "# fake data girerek bunu saglayabiliriz"
   ]
  },
  {
   "cell_type": "code",
   "execution_count": null,
   "metadata": {},
   "outputs": [],
   "source": [
    "from tensorflow.keras.preprocessing.image import ImageDataGenerator"
   ]
  },
  {
   "cell_type": "code",
   "execution_count": null,
   "metadata": {},
   "outputs": [],
   "source": [
    "#help(ImageDataGenerator)"
   ]
  },
  {
   "cell_type": "code",
   "execution_count": null,
   "metadata": {},
   "outputs": [],
   "source": [
    "# datamızı aşağıda belirtilen parametreler ölçüsünde değiştirerek (genelde %10'ar) yeni imageler oluşturup çoğaltıyoruz.\n",
    "\n",
    "image_gen = ImageDataGenerator(rotation_range=15, \n",
    "                               width_shift_range=0.10, # bu oranda genişliği büyütüp/küçültüyor. Burada %10 büyütüyor\n",
    "                               height_shift_range=0.10, # bu oranda yüksekliği büyütüp/küçültüyor\n",
    "                               #rescale=1/255,  # scale yapma ihtiyacı olsaydı...\n",
    "                               shear_range=0.1,  # resmin bir kısmını almak.(random olarak numune alıyor)\n",
    "                               zoom_range=0.1,   # bu oranda zoom ediyor\n",
    "                               horizontal_flip=True, \n",
    "                               fill_mode='nearest')  \n",
    "# fill_mode='nearest': shear edip bir kısmını alınca imagein geri kalanını yakındaki (nearest) noktalar ile doldur. "
   ]
  },
  {
   "cell_type": "code",
   "execution_count": null,
   "metadata": {},
   "outputs": [],
   "source": [
    "plt.imshow(para_img)"
   ]
  },
  {
   "cell_type": "code",
   "execution_count": null,
   "metadata": {},
   "outputs": [],
   "source": [
    "plt.imshow(image_gen.random_transform(para_img))\n",
    "\n",
    "# yukardaki imagei image_gen de belirttiğim koda göre kırpıp ilave etti."
   ]
  },
  {
   "cell_type": "code",
   "execution_count": null,
   "metadata": {},
   "outputs": [],
   "source": [
    "image_gen.flow_from_directory(train_path) # bizim belirlediğimiz flow directoryye akış yapıyor"
   ]
  },
  {
   "cell_type": "code",
   "execution_count": null,
   "metadata": {},
   "outputs": [],
   "source": [
    "image_gen.flow_from_directory(test_path)"
   ]
  },
  {
   "cell_type": "markdown",
   "metadata": {},
   "source": [
    "# Creating the Model"
   ]
  },
  {
   "cell_type": "code",
   "execution_count": null,
   "metadata": {},
   "outputs": [],
   "source": [
    "from tensorflow.keras.models import Sequential\n",
    "from tensorflow.keras.layers import Activation, Dropout, Flatten, Dense, Conv2D, MaxPooling2D"
   ]
  },
  {
   "cell_type": "code",
   "execution_count": null,
   "metadata": {},
   "outputs": [],
   "source": [
    "model = Sequential()\n",
    "\n",
    "model.add(Conv2D(filters=32, kernel_size=(3,3),input_shape=image_shape, activation='relu',))\n",
    "model.add(MaxPooling2D(pool_size=(2, 2)))\n",
    "\n",
    "# en istikrarlısı ve hızlı öğrenme sağlayan relu olduğu için relu aktivasyonunu seçtim.\n",
    "\n",
    "model.add(Conv2D(filters=64, kernel_size=(3,3),input_shape=image_shape, activation='relu',))\n",
    "model.add(MaxPooling2D(pool_size=(2, 2)))\n",
    "\n",
    "model.add(Conv2D(filters=64, kernel_size=(3,3),input_shape=image_shape, activation='relu',))\n",
    "model.add(MaxPooling2D(pool_size=(2, 2)))\n",
    "\n",
    "\n",
    "model.add(Flatten())\n",
    "\n",
    "\n",
    "model.add(Dense(128))\n",
    "model.add(Activation('relu')) # model daha hızlı oğrenıyor\n",
    "\n",
    "model.add(Dropout(0.5)) # nöronların yarısını kapatıyor\n",
    "\n",
    "model.add(Dense(1))\n",
    "model.add(Activation('sigmoid'))\n",
    "\n",
    "model.compile(loss='binary_crossentropy',\n",
    "              optimizer='adam',\n",
    "              metrics=['accuracy'])"
   ]
  },
  {
   "cell_type": "code",
   "execution_count": null,
   "metadata": {},
   "outputs": [],
   "source": [
    "model.summary()"
   ]
  },
  {
   "cell_type": "code",
   "execution_count": null,
   "metadata": {},
   "outputs": [],
   "source": [
    "''' dense_2 (Dense) satırına baktığımızda çok büyük sayıda 1605760 parametrem var. '''\n",
    "''' Bu sistemimi epey yoracak. '''"
   ]
  },
  {
   "cell_type": "markdown",
   "metadata": {},
   "source": [
    "## Early Stopping"
   ]
  },
  {
   "cell_type": "code",
   "execution_count": null,
   "metadata": {},
   "outputs": [],
   "source": [
    "from tensorflow.keras.callbacks import EarlyStopping"
   ]
  },
  {
   "cell_type": "code",
   "execution_count": null,
   "metadata": {},
   "outputs": [],
   "source": [
    "early_stop = EarlyStopping(monitor='val_loss',patience=2)"
   ]
  },
  {
   "cell_type": "markdown",
   "metadata": {},
   "source": [
    "## Training the Model"
   ]
  },
  {
   "cell_type": "code",
   "execution_count": null,
   "metadata": {},
   "outputs": [],
   "source": [
    "#help(image_gen.flow_from_directory)"
   ]
  },
  {
   "cell_type": "code",
   "execution_count": null,
   "metadata": {},
   "outputs": [],
   "source": [
    "image_shape"
   ]
  },
  {
   "cell_type": "code",
   "execution_count": null,
   "metadata": {},
   "outputs": [],
   "source": [
    "# yukarda yeni değiştirilmiş datalarla imageleri çoğaltmıştık ancak bunu kullanmamıştık. \n",
    "  # burada ise batch_size ile her bir fotoğraftan 15 tane daha (yukarda belirtilen özellikleri kullanarak)  \n",
    "    # üretip bunları RAM'de tutuyor. \n",
    "     # ne zamanki fit etmeye başlayacak, o zaman yeni imageleri tek tek üretip eğitime sokacak, üretip eğitime sokacak. \n",
    "\n",
    "batch_size = 16\n",
    "train_image_gen = image_gen.flow_from_directory(train_path,\n",
    "                                               target_size=image_shape[:2], # target size'ı 130a 130 al demiş oldum.\n",
    "                                                color_mode='rgb',\n",
    "                                               batch_size=batch_size,\n",
    "                                               class_mode='binary')\n",
    "\n",
    "# RAM'ine güveniyorsan (16 GB ve üzeri ise) bach_size ı büyük seçerbilirsin. yoksa RAM patlar.\n",
    "# RAM düşükse bu değeri 8 olarak belirleyebilirsin. biraz uzun sürer ama sistemi yormaz."
   ]
  },
  {
   "cell_type": "code",
   "execution_count": null,
   "metadata": {},
   "outputs": [],
   "source": [
    "test_image_gen = image_gen.flow_from_directory(test_path,\n",
    "                                               target_size=image_shape[:2],\n",
    "                                               color_mode='rgb',\n",
    "                                               batch_size=batch_size,\n",
    "                                               class_mode='binary',shuffle=False)\n",
    "\n",
    "# shuffle = False -->  test image ları karıştırma. \n",
    "# onlar bir sıra dahilinde olduğu için ve test'te bunların sırası önemli olduğu için \n",
    "   # bunların sırasının bozulmasını istemiyorum."
   ]
  },
  {
   "cell_type": "code",
   "execution_count": null,
   "metadata": {},
   "outputs": [],
   "source": [
    "train_image_gen.class_indices\n",
    "\n",
    "# yukarda class_mode='binary' dediğim için:\n",
    "  # binary mode dan öğrenerek enfekte olanlara 0 olmayalara 1 class ı atamış"
   ]
  },
  {
   "cell_type": "code",
   "execution_count": null,
   "metadata": {
    "scrolled": false
   },
   "outputs": [],
   "source": [
    "results = model.fit_generator(train_image_gen,epochs=20,\n",
    "                              validation_data=test_image_gen, callbacks=[early_stop])\n",
    "\n",
    "# fit_generatör'ü kullanarak yukarda ürettiğim test_image_gen ve train_image_gen directory lerden aldıklarını içindeki parametrelere göre modeli fit et. "
   ]
  },
  {
   "cell_type": "markdown",
   "metadata": {},
   "source": [
    "fit_generatör'ü kullanarak yukarda ürettiğim test_image_gen ve train_image_gen directory lerden aldıklarını içindeki parametrelere göre modeli fit et. "
   ]
  },
  {
   "cell_type": "markdown",
   "metadata": {},
   "source": [
    "# Evaluating the Model"
   ]
  },
  {
   "cell_type": "code",
   "execution_count": null,
   "metadata": {},
   "outputs": [],
   "source": [
    "summary = pd.DataFrame(model.history.history)\n",
    "summary.head()"
   ]
  },
  {
   "cell_type": "code",
   "execution_count": null,
   "metadata": {},
   "outputs": [],
   "source": [
    "plt.figure(figsize=(10,6))\n",
    "plt.plot(summary.loss, label=\"loss\")\n",
    "plt.plot(summary.val_loss, label=\"val_loss\")\n",
    "plt.legend(loc=\"upper right\")\n",
    "plt.ylabel(\"Loss\")\n",
    "plt.xlabel(\"Epoch\")\n",
    "plt.show()"
   ]
  },
  {
   "cell_type": "code",
   "execution_count": null,
   "metadata": {},
   "outputs": [],
   "source": [
    "plt.figure(figsize=(10,6))\n",
    "plt.plot(summary.accuracy, label=\"accuracy\")\n",
    "plt.plot(summary.val_accuracy, label=\"val_accuracy\")\n",
    "plt.legend(loc=\"upper left\")\n",
    "plt.ylabel(\"Accuracy\")\n",
    "plt.xlabel(\"Epoch\")\n",
    "plt.show()"
   ]
  },
  {
   "cell_type": "code",
   "execution_count": null,
   "metadata": {},
   "outputs": [],
   "source": [
    "model.metrics_names"
   ]
  },
  {
   "cell_type": "code",
   "execution_count": null,
   "metadata": {},
   "outputs": [],
   "source": [
    "model.evaluate_generator(test_image_gen)"
   ]
  },
  {
   "cell_type": "code",
   "execution_count": null,
   "metadata": {},
   "outputs": [],
   "source": [
    "from tensorflow.keras.preprocessing import image"
   ]
  },
  {
   "cell_type": "code",
   "execution_count": null,
   "metadata": {},
   "outputs": [],
   "source": [
    "preds = model.predict_generator(test_image_gen)"
   ]
  },
  {
   "cell_type": "code",
   "execution_count": null,
   "metadata": {},
   "outputs": [],
   "source": [
    "preds"
   ]
  },
  {
   "cell_type": "code",
   "execution_count": null,
   "metadata": {},
   "outputs": [],
   "source": [
    "test_image_gen.classes"
   ]
  },
  {
   "cell_type": "code",
   "execution_count": null,
   "metadata": {},
   "outputs": [],
   "source": [
    "predictions = preds > 0.5"
   ]
  },
  {
   "cell_type": "code",
   "execution_count": null,
   "metadata": {},
   "outputs": [],
   "source": [
    "predictions"
   ]
  },
  {
   "cell_type": "code",
   "execution_count": null,
   "metadata": {},
   "outputs": [],
   "source": [
    "from sklearn.metrics import classification_report,confusion_matrix"
   ]
  },
  {
   "cell_type": "code",
   "execution_count": null,
   "metadata": {},
   "outputs": [],
   "source": [
    "print(classification_report(test_image_gen.classes,predictions))"
   ]
  },
  {
   "cell_type": "code",
   "execution_count": null,
   "metadata": {},
   "outputs": [],
   "source": [
    "confusion_matrix(test_image_gen.classes,predictions)"
   ]
  },
  {
   "cell_type": "code",
   "execution_count": null,
   "metadata": {},
   "outputs": [],
   "source": [
    "#model.save('malaria_model.h5')"
   ]
  },
  {
   "cell_type": "markdown",
   "metadata": {},
   "source": [
    "# Predicting on an Image"
   ]
  },
  {
   "cell_type": "code",
   "execution_count": null,
   "metadata": {},
   "outputs": [],
   "source": [
    "para_cell"
   ]
  },
  {
   "cell_type": "code",
   "execution_count": null,
   "metadata": {},
   "outputs": [],
   "source": [
    "my_image = image.load_img(para_cell,target_size=image_shape)"
   ]
  },
  {
   "cell_type": "code",
   "execution_count": null,
   "metadata": {},
   "outputs": [],
   "source": [
    "my_image"
   ]
  },
  {
   "cell_type": "code",
   "execution_count": null,
   "metadata": {},
   "outputs": [],
   "source": [
    "type(my_image)"
   ]
  },
  {
   "cell_type": "code",
   "execution_count": null,
   "metadata": {},
   "outputs": [],
   "source": [
    "my_image = image.img_to_array(my_image)"
   ]
  },
  {
   "cell_type": "code",
   "execution_count": null,
   "metadata": {},
   "outputs": [],
   "source": [
    "type(my_image)"
   ]
  },
  {
   "cell_type": "code",
   "execution_count": null,
   "metadata": {},
   "outputs": [],
   "source": [
    "my_image.shape"
   ]
  },
  {
   "cell_type": "code",
   "execution_count": null,
   "metadata": {},
   "outputs": [],
   "source": [
    "my_image = np.expand_dims(my_image, axis=0)"
   ]
  },
  {
   "cell_type": "code",
   "execution_count": null,
   "metadata": {},
   "outputs": [],
   "source": [
    "my_image.shape"
   ]
  },
  {
   "cell_type": "code",
   "execution_count": null,
   "metadata": {},
   "outputs": [],
   "source": [
    "model.predict(my_image)"
   ]
  },
  {
   "cell_type": "code",
   "execution_count": null,
   "metadata": {},
   "outputs": [],
   "source": [
    "train_image_gen.class_indices"
   ]
  },
  {
   "cell_type": "code",
   "execution_count": null,
   "metadata": {},
   "outputs": [],
   "source": [
    "test_image_gen.class_indices"
   ]
  }
 ],
 "metadata": {
  "kernelspec": {
   "display_name": "Python 3",
   "language": "python",
   "name": "python3"
  },
  "language_info": {
   "codemirror_mode": {
    "name": "ipython",
    "version": 3
   },
   "file_extension": ".py",
   "mimetype": "text/x-python",
   "name": "python",
   "nbconvert_exporter": "python",
   "pygments_lexer": "ipython3",
   "version": "3.8.8"
  }
 },
 "nbformat": 4,
 "nbformat_minor": 2
}
