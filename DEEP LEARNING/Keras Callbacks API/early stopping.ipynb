{
  "nbformat": 4,
  "nbformat_minor": 0,
  "metadata": {
    "colab": {
      "name": "Keras Callbacks API .ipynb",
      "provenance": []
    },
    "kernelspec": {
      "name": "python3",
      "display_name": "Python 3"
    },
    "language_info": {
      "name": "python"
    }
  },
  "cells": [
    {
      "cell_type": "code",
      "execution_count": null,
      "metadata": {
        "id": "pKJnWxHFJzAH"
      },
      "outputs": [],
      "source": [
        ""
      ]
    },
    {
      "cell_type": "code",
      "source": [
        "from google.colab import drive\n",
        "drive.mount('/content/drive')"
      ],
      "metadata": {
        "colab": {
          "base_uri": "https://localhost:8080/"
        },
        "id": "0SQtvIT8KO7F",
        "outputId": "cc4c5406-02d4-42f8-8309-590c5672c740"
      },
      "execution_count": 1,
      "outputs": [
        {
          "output_type": "stream",
          "name": "stdout",
          "text": [
            "Mounted at /content/drive\n"
          ]
        }
      ]
    },
    {
      "cell_type": "code",
      "source": [
        "import keras \n",
        "import tensorflow as tf \n",
        "import matplotlib.pyplot as plt\n"
      ],
      "metadata": {
        "id": "q8ymzpA4LF8D"
      },
      "execution_count": 2,
      "outputs": []
    },
    {
      "cell_type": "code",
      "source": [
        "#metriclerimin değişimini görmek istiyorm \n",
        "def plotData(history,metric):\n",
        "  train_metrics = history.history[metric]\n",
        "  validation_metrics = history.history[\"val_\" + metric]\n",
        "\n",
        "  epochs = range(1, len(train_metrics)+1)\n",
        "\n",
        "  plt.plot(epochs, train_metrics)\n",
        "  plt.plot(epochs, validation_metrics)\n",
        "\n",
        "  plt.title(\"Training&Validation\"+metric)\n",
        "\n",
        "  plt.xlabel(\"Epochs\")\n",
        "  plt.ylabel(metric)\n",
        "  plt.legend([\"train_\"+metric, \"val_\"+metric]);"
      ],
      "metadata": {
        "id": "WqB6pdwLLGBQ"
      },
      "execution_count": 5,
      "outputs": []
    },
    {
      "cell_type": "code",
      "source": [
        "def plotLR(history):  # lr için de aynısını yapıyorum\n",
        "\n",
        "  learning_rate = history.history[\"lr\"] \n",
        "\n",
        "  epochs = range(1, len(learning_rate)+1) # range 0'dan başladığı için \n",
        "\n",
        "  plt.plot(epochs, learning_rate)\n",
        "  plt.plot(epochs, validation_metrics)\n",
        "\n",
        "  plt.title(\"learning_rate\")\n",
        "\n",
        "  plt.xlabel(\"Epochs\")\n",
        "  plt.ylabel(\"learning_rate\") ;"
      ],
      "metadata": {
        "id": "8P-Nc0VWLGF6"
      },
      "execution_count": 7,
      "outputs": []
    },
    {
      "cell_type": "code",
      "source": [
        "from keras.datasets import mnist\n",
        "\n",
        "(train_images, train_labels) = mnist.load_data()[0]\n",
        "(test_images , test_labels) = mnist.load_data()[1]\n",
        "\n",
        "print(\"shape of train images\", train_images.shape)\n",
        "print(\"shape of test images\", test_images.shape)\n"
      ],
      "metadata": {
        "colab": {
          "base_uri": "https://localhost:8080/"
        },
        "id": "diSUGIsIP8v3",
        "outputId": "7f517a6f-816c-48a5-8d9b-7e22aaad6caa"
      },
      "execution_count": 8,
      "outputs": [
        {
          "output_type": "stream",
          "name": "stdout",
          "text": [
            "Downloading data from https://storage.googleapis.com/tensorflow/tf-keras-datasets/mnist.npz\n",
            "11493376/11490434 [==============================] - 0s 0us/step\n",
            "11501568/11490434 [==============================] - 0s 0us/step\n",
            "shape of train images (60000, 28, 28)\n",
            "shape of test images (10000, 28, 28)\n"
          ]
        }
      ]
    },
    {
      "cell_type": "code",
      "source": [
        "from keras.models import Sequential\n",
        "from keras.layers import Conv2D, Dense, Dropout,Flatten, MaxPooling2D\n"
      ],
      "metadata": {
        "id": "NP5cMCFxQ68H"
      },
      "execution_count": 9,
      "outputs": []
    },
    {
      "cell_type": "code",
      "source": [
        "input_shape = (28,28,1)"
      ],
      "metadata": {
        "id": "p6FfFuR9Tsrz"
      },
      "execution_count": 10,
      "outputs": []
    },
    {
      "cell_type": "code",
      "source": [
        "def mnist_model(input_shape): #modelimi tanımladım\n",
        "  model = Sequential([Conv2D(28,kernel_size=(3,3),    input_shape = input_shape),\n",
        "                      MaxPooling2D(pool_size = (2,2)),\n",
        "                      Flatten(),\n",
        "                      Dense(128, activation  = \"relu\"),\n",
        "                      Dropout(0.2),\n",
        "                      Dense(10,activation = \"softmax\")])\n",
        "\n",
        "\n",
        "\n",
        "  model.compile(      optimizer = \"adam\",\n",
        "                      loss = \"sparse_categorical_crossentropy\",\n",
        "                      metrics = \"accuracy\")   \n",
        "\n",
        "\n",
        "  return model                                     "
      ],
      "metadata": {
        "id": "1NrhzTskROwe"
      },
      "execution_count": 11,
      "outputs": []
    },
    {
      "cell_type": "code",
      "source": [
        "model = mnist_model(input_shape) # model oluşturdum\n",
        "model.summary()"
      ],
      "metadata": {
        "colab": {
          "base_uri": "https://localhost:8080/"
        },
        "id": "SyrxR41fT_i9",
        "outputId": "299b9cf7-3dd7-4b00-bda6-31c981516bbb"
      },
      "execution_count": 12,
      "outputs": [
        {
          "output_type": "stream",
          "name": "stdout",
          "text": [
            "Model: \"sequential\"\n",
            "_________________________________________________________________\n",
            " Layer (type)                Output Shape              Param #   \n",
            "=================================================================\n",
            " conv2d (Conv2D)             (None, 26, 26, 28)        280       \n",
            "                                                                 \n",
            " max_pooling2d (MaxPooling2D  (None, 13, 13, 28)       0         \n",
            " )                                                               \n",
            "                                                                 \n",
            " flatten (Flatten)           (None, 4732)              0         \n",
            "                                                                 \n",
            " dense (Dense)               (None, 128)               605824    \n",
            "                                                                 \n",
            " dropout (Dropout)           (None, 128)               0         \n",
            "                                                                 \n",
            " dense_1 (Dense)             (None, 10)                1290      \n",
            "                                                                 \n",
            "=================================================================\n",
            "Total params: 607,394\n",
            "Trainable params: 607,394\n",
            "Non-trainable params: 0\n",
            "_________________________________________________________________\n"
          ]
        }
      ]
    },
    {
      "cell_type": "code",
      "source": [
        "from keras.callbacks import EarlyStopping\n",
        "\n",
        "early_stopping = EarlyStopping()\n",
        "history_early_stopping  =  model.fit(x = train_images,\n",
        "                                     y = train_labels ,\n",
        "                                     epochs = 50,\n",
        "                                     validation_split = 0.20,\n",
        "                                     batch_size = 64 ,\n",
        "                                     verbose = 2,\n",
        "                                     callbacks = [early_stopping])"
      ],
      "metadata": {
        "colab": {
          "base_uri": "https://localhost:8080/"
        },
        "id": "UUoVoVTxUHIY",
        "outputId": "244c19de-04bc-485e-9c6b-0318b56bebef"
      },
      "execution_count": 13,
      "outputs": [
        {
          "output_type": "stream",
          "name": "stdout",
          "text": [
            "Epoch 1/50\n",
            "750/750 - 21s - loss: 1.0105 - accuracy: 0.8380 - val_loss: 0.2843 - val_accuracy: 0.9251 - 21s/epoch - 28ms/step\n",
            "Epoch 2/50\n",
            "750/750 - 20s - loss: 0.2978 - accuracy: 0.9204 - val_loss: 0.1844 - val_accuracy: 0.9560 - 20s/epoch - 27ms/step\n"
          ]
        }
      ]
    },
    {
      "cell_type": "code",
      "source": [
        "plotData(history_early_stopping, \"loss\")"
      ],
      "metadata": {
        "colab": {
          "base_uri": "https://localhost:8080/",
          "height": 295
        },
        "id": "bBxuMQbQVJdv",
        "outputId": "457dcd90-51eb-48cf-ce2b-558aa6ec47b5"
      },
      "execution_count": 14,
      "outputs": [
        {
          "output_type": "display_data",
          "data": {
            "image/png": "[encoded data removed]",
            "text/plain": [
              "<Figure size 432x288 with 1 Axes>"
            ]
          },
          "metadata": {
            "needs_background": "light"
          }
        }
      ]
    },
    {
      "cell_type": "code",
      "source": [
        "model = mnist_model(input_shape) # model oluşturdum\n",
        "early_stopping_1 = EarlyStopping(monitor = \"val_accuracy\",\n",
        "                                 patience = 3  ,       # herhangi gelişme olmasa da model eğitime devam ediyor\n",
        "                                 min_delta = 0.001,    # 0.001 den aşağısını iyileşme için kabul etme\n",
        "                                 mode = \"auto\")        # eğrinn özellğiğine göre takip yapıyor \n",
        "\n",
        "early_stopping = EarlyStopping()\n",
        "history_early_stopping_1  =  model.fit(x = train_images,\n",
        "                                     y = train_labels ,\n",
        "                                     epochs = 50,\n",
        "                                     validation_split = 0.20,\n",
        "                                     batch_size = 64 ,\n",
        "                                     verbose = 2,\n",
        "                                     callbacks = [early_stopping_1]) \n",
        "\n"
      ],
      "metadata": {
        "colab": {
          "base_uri": "https://localhost:8080/"
        },
        "id": "OapLGQ9gVN8r",
        "outputId": "ad1adddb-3c67-4f2e-dacd-59be32af8ea5"
      },
      "execution_count": 15,
      "outputs": [
        {
          "output_type": "stream",
          "name": "stdout",
          "text": [
            "Epoch 1/50\n",
            "750/750 - 21s - loss: 1.0070 - accuracy: 0.8220 - val_loss: 0.2565 - val_accuracy: 0.9366 - 21s/epoch - 27ms/step\n",
            "Epoch 2/50\n",
            "750/750 - 20s - loss: 0.3103 - accuracy: 0.9168 - val_loss: 0.1737 - val_accuracy: 0.9566 - 20s/epoch - 26ms/step\n",
            "Epoch 3/50\n",
            "750/750 - 21s - loss: 0.2087 - accuracy: 0.9413 - val_loss: 0.1592 - val_accuracy: 0.9567 - 21s/epoch - 29ms/step\n",
            "Epoch 4/50\n",
            "750/750 - 20s - loss: 0.1787 - accuracy: 0.9494 - val_loss: 0.1380 - val_accuracy: 0.9649 - 20s/epoch - 26ms/step\n",
            "Epoch 5/50\n",
            "750/750 - 20s - loss: 0.1496 - accuracy: 0.9566 - val_loss: 0.1436 - val_accuracy: 0.9599 - 20s/epoch - 26ms/step\n",
            "Epoch 6/50\n",
            "750/750 - 20s - loss: 0.1294 - accuracy: 0.9631 - val_loss: 0.1257 - val_accuracy: 0.9687 - 20s/epoch - 26ms/step\n",
            "Epoch 7/50\n",
            "750/750 - 20s - loss: 0.1222 - accuracy: 0.9639 - val_loss: 0.1118 - val_accuracy: 0.9744 - 20s/epoch - 26ms/step\n",
            "Epoch 8/50\n",
            "750/750 - 21s - loss: 0.1129 - accuracy: 0.9672 - val_loss: 0.1180 - val_accuracy: 0.9732 - 21s/epoch - 27ms/step\n",
            "Epoch 9/50\n",
            "750/750 - 20s - loss: 0.1136 - accuracy: 0.9678 - val_loss: 0.1278 - val_accuracy: 0.9716 - 20s/epoch - 26ms/step\n",
            "Epoch 10/50\n",
            "750/750 - 20s - loss: 0.1098 - accuracy: 0.9688 - val_loss: 0.1393 - val_accuracy: 0.9647 - 20s/epoch - 26ms/step\n"
          ]
        }
      ]
    },
    {
      "cell_type": "code",
      "source": [
        "plotData(history_early_stopping_1, \"accuracy\")"
      ],
      "metadata": {
        "colab": {
          "base_uri": "https://localhost:8080/",
          "height": 295
        },
        "id": "qctvathlYyWf",
        "outputId": "9b4a7db7-8ef3-4e94-9989-b85525dcf2f2"
      },
      "execution_count": 17,
      "outputs": [
        {
          "output_type": "display_data",
          "data": {
            "image/png": "[encoded data removed]",
            "text/plain": [
              "<Figure size 432x288 with 1 Axes>"
            ]
          },
          "metadata": {
            "needs_background": "light"
          }
        }
      ]
    },
    {
      "cell_type": "code",
      "source": [
        ""
      ],
      "metadata": {
        "id": "crsInN3qYz-1"
      },
      "execution_count": null,
      "outputs": []
    }
  ]
}