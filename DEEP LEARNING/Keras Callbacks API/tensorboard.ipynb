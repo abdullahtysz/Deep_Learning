{
  "nbformat": 4,
  "nbformat_minor": 0,
  "metadata": {
    "colab": {
      "name": "tensorboard.ipynb",
      "provenance": []
    },
    "kernelspec": {
      "name": "python3",
      "display_name": "Python 3"
    },
    "language_info": {
      "name": "python"
    },
    "accelerator": "GPU"
  },
  "cells": [
    {
      "cell_type": "code",
      "execution_count": null,
      "metadata": {
        "id": "pKJnWxHFJzAH"
      },
      "outputs": [],
      "source": [
        ""
      ]
    },
    {
      "cell_type": "code",
      "source": [
        "from google.colab import drive\n",
        "drive.mount('/content/drive')"
      ],
      "metadata": {
        "colab": {
          "base_uri": "https://localhost:8080/"
        },
        "id": "0SQtvIT8KO7F",
        "outputId": "b7f2d92d-925e-4f76-9407-aea8375ae1a9"
      },
      "execution_count": 1,
      "outputs": [
        {
          "output_type": "stream",
          "name": "stdout",
          "text": [
            "Drive already mounted at /content/drive; to attempt to forcibly remount, call drive.mount(\"/content/drive\", force_remount=True).\n"
          ]
        }
      ]
    },
    {
      "cell_type": "code",
      "source": [
        "import keras \n",
        "import tensorflow as tf \n",
        "import matplotlib.pyplot as plt\n"
      ],
      "metadata": {
        "id": "q8ymzpA4LF8D"
      },
      "execution_count": 2,
      "outputs": []
    },
    {
      "cell_type": "code",
      "source": [
        "#metriclerimin değişimini görmek istiyorm \n",
        "def plotData(history,metric):\n",
        "  train_metrics = history.history[metric]\n",
        "  validation_metrics = history.history[\"val_\" + metric]\n",
        "\n",
        "  epochs = range(1, len(train_metrics)+1)\n",
        "\n",
        "  plt.plot(epochs, train_metrics)\n",
        "  plt.plot(epochs, validation_metrics)\n",
        "\n",
        "  plt.title(\"Training&Validation\"+metric)\n",
        "\n",
        "  plt.xlabel(\"Epochs\")\n",
        "  plt.ylabel(metric)\n",
        "  plt.legend([\"train_\"+metric, \"val_\"+metric]);"
      ],
      "metadata": {
        "id": "WqB6pdwLLGBQ"
      },
      "execution_count": 3,
      "outputs": []
    },
    {
      "cell_type": "code",
      "source": [
        "def plotLR(history):  # lr için de aynısını yapıyorum\n",
        "\n",
        "  learning_rate = history.history[\"lr\"] \n",
        "\n",
        "  epochs = range(1, len(learning_rate)+1) # range 0'dan başladığı için \n",
        "\n",
        "  plt.plot(epochs, learning_rate)\n",
        "  plt.plot(epochs, validation_metrics)\n",
        "\n",
        "  plt.title(\"learning_rate\")\n",
        "\n",
        "  plt.xlabel(\"Epochs\")\n",
        "  plt.ylabel(\"learning_rate\") ;"
      ],
      "metadata": {
        "id": "8P-Nc0VWLGF6"
      },
      "execution_count": 4,
      "outputs": []
    },
    {
      "cell_type": "code",
      "source": [
        "from keras.datasets import mnist\n",
        "\n",
        "(train_images, train_labels) = mnist.load_data()[0]\n",
        "(test_images , test_labels) = mnist.load_data()[1]\n",
        "\n",
        "print(\"shape of train images\", train_images.shape)\n",
        "print(\"shape of test images\", test_images.shape)\n"
      ],
      "metadata": {
        "colab": {
          "base_uri": "https://localhost:8080/"
        },
        "id": "diSUGIsIP8v3",
        "outputId": "fea726af-8363-4250-b50c-7a1ae701f71f"
      },
      "execution_count": 5,
      "outputs": [
        {
          "output_type": "stream",
          "name": "stdout",
          "text": [
            "Downloading data from https://storage.googleapis.com/tensorflow/tf-keras-datasets/mnist.npz\n",
            "11493376/11490434 [==============================] - 0s 0us/step\n",
            "11501568/11490434 [==============================] - 0s 0us/step\n",
            "shape of train images (60000, 28, 28)\n",
            "shape of test images (10000, 28, 28)\n"
          ]
        }
      ]
    },
    {
      "cell_type": "code",
      "source": [
        "from keras.models import Sequential\n",
        "from keras.layers import Conv2D, Dense, Dropout,Flatten, MaxPooling2D\n"
      ],
      "metadata": {
        "id": "NP5cMCFxQ68H"
      },
      "execution_count": 6,
      "outputs": []
    },
    {
      "cell_type": "code",
      "source": [
        "input_shape = (28,28,1)"
      ],
      "metadata": {
        "id": "p6FfFuR9Tsrz"
      },
      "execution_count": 7,
      "outputs": []
    },
    {
      "cell_type": "code",
      "source": [
        "def mnist_model(input_shape): #modelimi tanımladım\n",
        "  model = Sequential([Conv2D(28,kernel_size=(3,3),    input_shape = input_shape),\n",
        "                      MaxPooling2D(pool_size = (2,2)),\n",
        "                      Flatten(),\n",
        "                      Dense(128, activation  = \"relu\"),\n",
        "                      Dropout(0.2),\n",
        "                      Dense(10,activation = \"softmax\")])\n",
        "\n",
        "\n",
        "\n",
        "  model.compile(      optimizer = \"adam\",\n",
        "                      loss = \"sparse_categorical_crossentropy\",\n",
        "                      metrics = \"accuracy\")   \n",
        "\n",
        "\n",
        "  return model                                     "
      ],
      "metadata": {
        "id": "1NrhzTskROwe"
      },
      "execution_count": 8,
      "outputs": []
    },
    {
      "cell_type": "code",
      "source": [
        "model = mnist_model(input_shape) # model oluşturdum\n",
        "model.summary()"
      ],
      "metadata": {
        "colab": {
          "base_uri": "https://localhost:8080/"
        },
        "id": "SyrxR41fT_i9",
        "outputId": "7c218ff5-26e5-4754-8a0b-1c38c55536ed"
      },
      "execution_count": 9,
      "outputs": [
        {
          "output_type": "stream",
          "name": "stdout",
          "text": [
            "Model: \"sequential\"\n",
            "_________________________________________________________________\n",
            " Layer (type)                Output Shape              Param #   \n",
            "=================================================================\n",
            " conv2d (Conv2D)             (None, 26, 26, 28)        280       \n",
            "                                                                 \n",
            " max_pooling2d (MaxPooling2D  (None, 13, 13, 28)       0         \n",
            " )                                                               \n",
            "                                                                 \n",
            " flatten (Flatten)           (None, 4732)              0         \n",
            "                                                                 \n",
            " dense (Dense)               (None, 128)               605824    \n",
            "                                                                 \n",
            " dropout (Dropout)           (None, 128)               0         \n",
            "                                                                 \n",
            " dense_1 (Dense)             (None, 10)                1290      \n",
            "                                                                 \n",
            "=================================================================\n",
            "Total params: 607,394\n",
            "Trainable params: 607,394\n",
            "Non-trainable params: 0\n",
            "_________________________________________________________________\n"
          ]
        }
      ]
    },
    {
      "cell_type": "code",
      "source": [
        "from keras.callbacks import EarlyStopping\n",
        "\n",
        "early_stopping = EarlyStopping()\n",
        "history_early_stopping  =  model.fit(x = train_images,\n",
        "                                     y = train_labels ,\n",
        "                                     epochs = 50,\n",
        "                                     validation_split = 0.20,\n",
        "                                     batch_size = 64 ,\n",
        "                                     verbose = 2,\n",
        "                                     callbacks = [early_stopping])"
      ],
      "metadata": {
        "colab": {
          "base_uri": "https://localhost:8080/"
        },
        "id": "UUoVoVTxUHIY",
        "outputId": "bbae0531-0a78-4e9f-e9ea-2c3d1cd65f4c"
      },
      "execution_count": 10,
      "outputs": [
        {
          "output_type": "stream",
          "name": "stdout",
          "text": [
            "Epoch 1/50\n",
            "750/750 - 13s - loss: 1.0890 - accuracy: 0.8345 - val_loss: 0.2790 - val_accuracy: 0.9315 - 13s/epoch - 17ms/step\n",
            "Epoch 2/50\n",
            "750/750 - 4s - loss: 0.3275 - accuracy: 0.9150 - val_loss: 0.1918 - val_accuracy: 0.9508 - 4s/epoch - 6ms/step\n"
          ]
        }
      ]
    },
    {
      "cell_type": "code",
      "source": [
        "plotData(history_early_stopping, \"loss\")"
      ],
      "metadata": {
        "colab": {
          "base_uri": "https://localhost:8080/",
          "height": 295
        },
        "id": "bBxuMQbQVJdv",
        "outputId": "775dfcea-fc9e-4392-8d3b-f0f03d0f8339"
      },
      "execution_count": 11,
      "outputs": [
        {
          "output_type": "display_data",
          "data": {
            "image/png": "[encoded data removed]",
            "text/plain": [
              "<Figure size 432x288 with 1 Axes>"
            ]
          },
          "metadata": {
            "needs_background": "light"
          }
        }
      ]
    },
    {
      "cell_type": "code",
      "source": [
        "model = mnist_model(input_shape) # model oluşturdum\n",
        "early_stopping_1 = EarlyStopping(monitor = \"val_accuracy\",\n",
        "                                 patience = 3  ,       # herhangi gelişme olmasa da model eğitime devam ediyor\n",
        "                                 min_delta = 0.001,    # 0.001 den aşağısını iyileşme için kabul etme\n",
        "                                 mode = \"auto\")        # eğrinn özellğiğine göre takip yapıyor \n",
        "\n",
        "early_stopping = EarlyStopping()\n",
        "history_early_stopping_1  =  model.fit(x = train_images,\n",
        "                                     y = train_labels ,\n",
        "                                     epochs = 50,\n",
        "                                     validation_split = 0.20,\n",
        "                                     batch_size = 64 ,\n",
        "                                     verbose = 2,\n",
        "                                     callbacks = [early_stopping_1]) \n",
        "\n"
      ],
      "metadata": {
        "colab": {
          "base_uri": "https://localhost:8080/"
        },
        "id": "OapLGQ9gVN8r",
        "outputId": "ff8603ae-19a9-4021-bbbc-343ef394e079"
      },
      "execution_count": 12,
      "outputs": [
        {
          "output_type": "stream",
          "name": "stdout",
          "text": [
            "Epoch 1/50\n",
            "750/750 - 4s - loss: 1.0602 - accuracy: 0.8328 - val_loss: 0.2488 - val_accuracy: 0.9376 - 4s/epoch - 6ms/step\n",
            "Epoch 2/50\n",
            "750/750 - 5s - loss: 0.3043 - accuracy: 0.9180 - val_loss: 0.1770 - val_accuracy: 0.9548 - 5s/epoch - 6ms/step\n",
            "Epoch 3/50\n",
            "750/750 - 5s - loss: 0.2097 - accuracy: 0.9405 - val_loss: 0.1761 - val_accuracy: 0.9592 - 5s/epoch - 7ms/step\n",
            "Epoch 4/50\n",
            "750/750 - 4s - loss: 0.1670 - accuracy: 0.9515 - val_loss: 0.1470 - val_accuracy: 0.9652 - 4s/epoch - 5ms/step\n",
            "Epoch 5/50\n",
            "750/750 - 4s - loss: 0.1433 - accuracy: 0.9589 - val_loss: 0.1343 - val_accuracy: 0.9682 - 4s/epoch - 5ms/step\n",
            "Epoch 6/50\n",
            "750/750 - 4s - loss: 0.1246 - accuracy: 0.9635 - val_loss: 0.1293 - val_accuracy: 0.9713 - 4s/epoch - 5ms/step\n",
            "Epoch 7/50\n",
            "750/750 - 3s - loss: 0.1213 - accuracy: 0.9657 - val_loss: 0.1189 - val_accuracy: 0.9712 - 3s/epoch - 5ms/step\n",
            "Epoch 8/50\n",
            "750/750 - 4s - loss: 0.1160 - accuracy: 0.9678 - val_loss: 0.1183 - val_accuracy: 0.9729 - 4s/epoch - 5ms/step\n",
            "Epoch 9/50\n",
            "750/750 - 4s - loss: 0.1077 - accuracy: 0.9692 - val_loss: 0.1365 - val_accuracy: 0.9747 - 4s/epoch - 5ms/step\n",
            "Epoch 10/50\n",
            "750/750 - 4s - loss: 0.0999 - accuracy: 0.9698 - val_loss: 0.1408 - val_accuracy: 0.9737 - 4s/epoch - 5ms/step\n",
            "Epoch 11/50\n",
            "750/750 - 3s - loss: 0.1020 - accuracy: 0.9703 - val_loss: 0.1264 - val_accuracy: 0.9745 - 3s/epoch - 5ms/step\n",
            "Epoch 12/50\n",
            "750/750 - 4s - loss: 0.0961 - accuracy: 0.9736 - val_loss: 0.1332 - val_accuracy: 0.9709 - 4s/epoch - 5ms/step\n"
          ]
        }
      ]
    },
    {
      "cell_type": "code",
      "source": [
        "plotData(history_early_stopping_1, \"accuracy\")"
      ],
      "metadata": {
        "colab": {
          "base_uri": "https://localhost:8080/",
          "height": 295
        },
        "id": "qctvathlYyWf",
        "outputId": "6fe526b5-d245-482f-ff3e-20b2818f5ba3"
      },
      "execution_count": 13,
      "outputs": [
        {
          "output_type": "display_data",
          "data": {
            "image/png": "[encoded data removed]",
            "text/plain": [
              "<Figure size 432x288 with 1 Axes>"
            ]
          },
          "metadata": {
            "needs_background": "light"
          }
        }
      ]
    },
    {
      "cell_type": "markdown",
      "source": [
        "## CSV Logger"
      ],
      "metadata": {
        "id": "yqKBi7P1aK6E"
      }
    },
    {
      "cell_type": "markdown",
      "source": [
        "Eğitim esnasında her adım sonunda, hem eğitim hem test verisi için, hata değeri — loss — başarım değeri — acc — ve öğrenme hızı — learning rate — değerlerini kaydeder."
      ],
      "metadata": {
        "id": "c0GioWt21S9R"
      }
    },
    {
      "cell_type": "code",
      "source": [
        "from keras.callbacks import CSVLogger   # elde ettiğim değerleri tek tek kaydediyor\n",
        "\n",
        "csv = CSVLogger(\"/content/drive/MyDrive/csv/sonuc.csv\")\n",
        "\n",
        "model = mnist_model(input_shape)\n",
        "\n",
        "history_csv_logger  =  model.fit(      x = train_images,\n",
        "                                       y = train_labels ,\n",
        "                                       epochs = 20,\n",
        "                                       validation_split = 0.20,\n",
        "                                       batch_size = 64 ,\n",
        "                                       verbose = 2,\n",
        "                                       callbacks = [csv]) "
      ],
      "metadata": {
        "colab": {
          "base_uri": "https://localhost:8080/"
        },
        "id": "crsInN3qYz-1",
        "outputId": "52869b20-9712-4044-c30f-49f0850d1f8e"
      },
      "execution_count": 14,
      "outputs": [
        {
          "output_type": "stream",
          "name": "stdout",
          "text": [
            "Epoch 1/20\n",
            "750/750 - 5s - loss: 1.1509 - accuracy: 0.8300 - val_loss: 0.2946 - val_accuracy: 0.9329 - 5s/epoch - 7ms/step\n",
            "Epoch 2/20\n",
            "750/750 - 4s - loss: 0.3329 - accuracy: 0.9147 - val_loss: 0.1713 - val_accuracy: 0.9578 - 4s/epoch - 5ms/step\n",
            "Epoch 3/20\n",
            "750/750 - 4s - loss: 0.2222 - accuracy: 0.9389 - val_loss: 0.1687 - val_accuracy: 0.9611 - 4s/epoch - 5ms/step\n",
            "Epoch 4/20\n",
            "750/750 - 4s - loss: 0.1794 - accuracy: 0.9496 - val_loss: 0.1484 - val_accuracy: 0.9613 - 4s/epoch - 5ms/step\n",
            "Epoch 5/20\n",
            "750/750 - 5s - loss: 0.1548 - accuracy: 0.9569 - val_loss: 0.1361 - val_accuracy: 0.9676 - 5s/epoch - 6ms/step\n",
            "Epoch 6/20\n",
            "750/750 - 4s - loss: 0.1408 - accuracy: 0.9602 - val_loss: 0.1318 - val_accuracy: 0.9711 - 4s/epoch - 5ms/step\n",
            "Epoch 7/20\n",
            "750/750 - 4s - loss: 0.1319 - accuracy: 0.9625 - val_loss: 0.1185 - val_accuracy: 0.9728 - 4s/epoch - 5ms/step\n",
            "Epoch 8/20\n",
            "750/750 - 3s - loss: 0.1161 - accuracy: 0.9660 - val_loss: 0.1228 - val_accuracy: 0.9685 - 3s/epoch - 5ms/step\n",
            "Epoch 9/20\n",
            "750/750 - 3s - loss: 0.1124 - accuracy: 0.9677 - val_loss: 0.1643 - val_accuracy: 0.9675 - 3s/epoch - 5ms/step\n",
            "Epoch 10/20\n",
            "750/750 - 4s - loss: 0.1056 - accuracy: 0.9715 - val_loss: 0.1263 - val_accuracy: 0.9703 - 4s/epoch - 5ms/step\n",
            "Epoch 11/20\n",
            "750/750 - 4s - loss: 0.0976 - accuracy: 0.9723 - val_loss: 0.1336 - val_accuracy: 0.9722 - 4s/epoch - 5ms/step\n",
            "Epoch 12/20\n",
            "750/750 - 3s - loss: 0.0996 - accuracy: 0.9719 - val_loss: 0.1273 - val_accuracy: 0.9753 - 3s/epoch - 5ms/step\n",
            "Epoch 13/20\n",
            "750/750 - 4s - loss: 0.0956 - accuracy: 0.9726 - val_loss: 0.1522 - val_accuracy: 0.9701 - 4s/epoch - 5ms/step\n",
            "Epoch 14/20\n",
            "750/750 - 4s - loss: 0.0962 - accuracy: 0.9728 - val_loss: 0.1177 - val_accuracy: 0.9757 - 4s/epoch - 5ms/step\n",
            "Epoch 15/20\n",
            "750/750 - 3s - loss: 0.0842 - accuracy: 0.9765 - val_loss: 0.1277 - val_accuracy: 0.9770 - 3s/epoch - 5ms/step\n",
            "Epoch 16/20\n",
            "750/750 - 3s - loss: 0.0914 - accuracy: 0.9750 - val_loss: 0.1399 - val_accuracy: 0.9753 - 3s/epoch - 5ms/step\n",
            "Epoch 17/20\n",
            "750/750 - 3s - loss: 0.0838 - accuracy: 0.9778 - val_loss: 0.1635 - val_accuracy: 0.9753 - 3s/epoch - 5ms/step\n",
            "Epoch 18/20\n",
            "750/750 - 3s - loss: 0.0921 - accuracy: 0.9753 - val_loss: 0.1706 - val_accuracy: 0.9750 - 3s/epoch - 5ms/step\n",
            "Epoch 19/20\n",
            "750/750 - 4s - loss: 0.0780 - accuracy: 0.9805 - val_loss: 0.1396 - val_accuracy: 0.9759 - 4s/epoch - 5ms/step\n",
            "Epoch 20/20\n",
            "750/750 - 3s - loss: 0.0808 - accuracy: 0.9790 - val_loss: 0.1741 - val_accuracy: 0.9738 - 3s/epoch - 5ms/step\n"
          ]
        }
      ]
    },
    {
      "cell_type": "code",
      "source": [
        "import pandas as pd "
      ],
      "metadata": {
        "id": "iwcvniOxaSoW"
      },
      "execution_count": 15,
      "outputs": []
    },
    {
      "cell_type": "code",
      "source": [
        "pd.read_csv(\"/content/drive/MyDrive/csv/sonuc.csv\")"
      ],
      "metadata": {
        "colab": {
          "base_uri": "https://localhost:8080/",
          "height": 677
        },
        "id": "rD6kPIoTl5P2",
        "outputId": "269b3ad0-7c7b-4991-e17d-3120e0056924"
      },
      "execution_count": 16,
      "outputs": [
        {
          "output_type": "execute_result",
          "data": {
            "text/html": [
              "\n",
              "  <div id=\"df-37efdb9e-793b-484f-8423-ef0e2bbded15\">\n",
              "    <div class=\"colab-df-container\">\n",
              "      <div>\n",
              "<style scoped>\n",
              "    .dataframe tbody tr th:only-of-type {\n",
              "        vertical-align: middle;\n",
              "    }\n",
              "\n",
              "    .dataframe tbody tr th {\n",
              "        vertical-align: top;\n",
              "    }\n",
              "\n",
              "    .dataframe thead th {\n",
              "        text-align: right;\n",
              "    }\n",
              "</style>\n",
              "<table border=\"1\" class=\"dataframe\">\n",
              "  <thead>\n",
              "    <tr style=\"text-align: right;\">\n",
              "      <th></th>\n",
              "      <th>epoch</th>\n",
              "      <th>accuracy</th>\n",
              "      <th>loss</th>\n",
              "      <th>val_accuracy</th>\n",
              "      <th>val_loss</th>\n",
              "    </tr>\n",
              "  </thead>\n",
              "  <tbody>\n",
              "    <tr>\n",
              "      <th>0</th>\n",
              "      <td>0</td>\n",
              "      <td>0.829958</td>\n",
              "      <td>1.150873</td>\n",
              "      <td>0.932917</td>\n",
              "      <td>0.294555</td>\n",
              "    </tr>\n",
              "    <tr>\n",
              "      <th>1</th>\n",
              "      <td>1</td>\n",
              "      <td>0.914667</td>\n",
              "      <td>0.332923</td>\n",
              "      <td>0.957833</td>\n",
              "      <td>0.171281</td>\n",
              "    </tr>\n",
              "    <tr>\n",
              "      <th>2</th>\n",
              "      <td>2</td>\n",
              "      <td>0.938875</td>\n",
              "      <td>0.222167</td>\n",
              "      <td>0.961083</td>\n",
              "      <td>0.168741</td>\n",
              "    </tr>\n",
              "    <tr>\n",
              "      <th>3</th>\n",
              "      <td>3</td>\n",
              "      <td>0.949604</td>\n",
              "      <td>0.179403</td>\n",
              "      <td>0.961333</td>\n",
              "      <td>0.148377</td>\n",
              "    </tr>\n",
              "    <tr>\n",
              "      <th>4</th>\n",
              "      <td>4</td>\n",
              "      <td>0.956896</td>\n",
              "      <td>0.154753</td>\n",
              "      <td>0.967583</td>\n",
              "      <td>0.136074</td>\n",
              "    </tr>\n",
              "    <tr>\n",
              "      <th>5</th>\n",
              "      <td>5</td>\n",
              "      <td>0.960187</td>\n",
              "      <td>0.140768</td>\n",
              "      <td>0.971083</td>\n",
              "      <td>0.131788</td>\n",
              "    </tr>\n",
              "    <tr>\n",
              "      <th>6</th>\n",
              "      <td>6</td>\n",
              "      <td>0.962521</td>\n",
              "      <td>0.131923</td>\n",
              "      <td>0.972750</td>\n",
              "      <td>0.118523</td>\n",
              "    </tr>\n",
              "    <tr>\n",
              "      <th>7</th>\n",
              "      <td>7</td>\n",
              "      <td>0.965979</td>\n",
              "      <td>0.116077</td>\n",
              "      <td>0.968500</td>\n",
              "      <td>0.122758</td>\n",
              "    </tr>\n",
              "    <tr>\n",
              "      <th>8</th>\n",
              "      <td>8</td>\n",
              "      <td>0.967687</td>\n",
              "      <td>0.112435</td>\n",
              "      <td>0.967500</td>\n",
              "      <td>0.164255</td>\n",
              "    </tr>\n",
              "    <tr>\n",
              "      <th>9</th>\n",
              "      <td>9</td>\n",
              "      <td>0.971479</td>\n",
              "      <td>0.105611</td>\n",
              "      <td>0.970333</td>\n",
              "      <td>0.126254</td>\n",
              "    </tr>\n",
              "    <tr>\n",
              "      <th>10</th>\n",
              "      <td>10</td>\n",
              "      <td>0.972292</td>\n",
              "      <td>0.097585</td>\n",
              "      <td>0.972167</td>\n",
              "      <td>0.133579</td>\n",
              "    </tr>\n",
              "    <tr>\n",
              "      <th>11</th>\n",
              "      <td>11</td>\n",
              "      <td>0.971875</td>\n",
              "      <td>0.099564</td>\n",
              "      <td>0.975333</td>\n",
              "      <td>0.127263</td>\n",
              "    </tr>\n",
              "    <tr>\n",
              "      <th>12</th>\n",
              "      <td>12</td>\n",
              "      <td>0.972604</td>\n",
              "      <td>0.095595</td>\n",
              "      <td>0.970083</td>\n",
              "      <td>0.152240</td>\n",
              "    </tr>\n",
              "    <tr>\n",
              "      <th>13</th>\n",
              "      <td>13</td>\n",
              "      <td>0.972792</td>\n",
              "      <td>0.096202</td>\n",
              "      <td>0.975667</td>\n",
              "      <td>0.117741</td>\n",
              "    </tr>\n",
              "    <tr>\n",
              "      <th>14</th>\n",
              "      <td>14</td>\n",
              "      <td>0.976479</td>\n",
              "      <td>0.084215</td>\n",
              "      <td>0.977000</td>\n",
              "      <td>0.127655</td>\n",
              "    </tr>\n",
              "    <tr>\n",
              "      <th>15</th>\n",
              "      <td>15</td>\n",
              "      <td>0.975042</td>\n",
              "      <td>0.091366</td>\n",
              "      <td>0.975333</td>\n",
              "      <td>0.139936</td>\n",
              "    </tr>\n",
              "    <tr>\n",
              "      <th>16</th>\n",
              "      <td>16</td>\n",
              "      <td>0.977750</td>\n",
              "      <td>0.083829</td>\n",
              "      <td>0.975250</td>\n",
              "      <td>0.163470</td>\n",
              "    </tr>\n",
              "    <tr>\n",
              "      <th>17</th>\n",
              "      <td>17</td>\n",
              "      <td>0.975292</td>\n",
              "      <td>0.092071</td>\n",
              "      <td>0.975000</td>\n",
              "      <td>0.170604</td>\n",
              "    </tr>\n",
              "    <tr>\n",
              "      <th>18</th>\n",
              "      <td>18</td>\n",
              "      <td>0.980542</td>\n",
              "      <td>0.077987</td>\n",
              "      <td>0.975917</td>\n",
              "      <td>0.139579</td>\n",
              "    </tr>\n",
              "    <tr>\n",
              "      <th>19</th>\n",
              "      <td>19</td>\n",
              "      <td>0.978958</td>\n",
              "      <td>0.080848</td>\n",
              "      <td>0.973833</td>\n",
              "      <td>0.174083</td>\n",
              "    </tr>\n",
              "  </tbody>\n",
              "</table>\n",
              "</div>\n",
              "      <button class=\"colab-df-convert\" onclick=\"convertToInteractive('df-37efdb9e-793b-484f-8423-ef0e2bbded15')\"\n",
              "              title=\"Convert this dataframe to an interactive table.\"\n",
              "              style=\"display:none;\">\n",
              "        \n",
              "  <svg xmlns=\"http://www.w3.org/2000/svg\" height=\"24px\"viewBox=\"0 0 24 24\"\n",
              "       width=\"24px\">\n",
              "    <path d=\"M0 0h24v24H0V0z\" fill=\"none\"/>\n",
              "    <path d=\"M18.56 5.44l.94 2.06.94-2.06 2.06-.94-2.06-.94-.94-2.06-.94 2.06-2.06.94zm-11 1L8.5 8.5l.94-2.06 2.06-.94-2.06-.94L8.5 2.5l-.94 2.06-2.06.94zm10 10l.94 2.06.94-2.06 2.06-.94-2.06-.94-.94-2.06-.94 2.06-2.06.94z\"/><path d=\"M17.41 7.96l-1.37-1.37c-.4-.4-.92-.59-1.43-.59-.52 0-1.04.2-1.43.59L10.3 9.45l-7.72 7.72c-.78.78-.78 2.05 0 2.83L4 21.41c.39.39.9.59 1.41.59.51 0 1.02-.2 1.41-.59l7.78-7.78 2.81-2.81c.8-.78.8-2.07 0-2.86zM5.41 20L4 18.59l7.72-7.72 1.47 1.35L5.41 20z\"/>\n",
              "  </svg>\n",
              "      </button>\n",
              "      \n",
              "  <style>\n",
              "    .colab-df-container {\n",
              "      display:flex;\n",
              "      flex-wrap:wrap;\n",
              "      gap: 12px;\n",
              "    }\n",
              "\n",
              "    .colab-df-convert {\n",
              "      background-color: #E8F0FE;\n",
              "      border: none;\n",
              "      border-radius: 50%;\n",
              "      cursor: pointer;\n",
              "      display: none;\n",
              "      fill: #1967D2;\n",
              "      height: 32px;\n",
              "      padding: 0 0 0 0;\n",
              "      width: 32px;\n",
              "    }\n",
              "\n",
              "    .colab-df-convert:hover {\n",
              "      background-color: #E2EBFA;\n",
              "      box-shadow: 0px 1px 2px rgba(60, 64, 67, 0.3), 0px 1px 3px 1px rgba(60, 64, 67, 0.15);\n",
              "      fill: #174EA6;\n",
              "    }\n",
              "\n",
              "    [theme=dark] .colab-df-convert {\n",
              "      background-color: #3B4455;\n",
              "      fill: #D2E3FC;\n",
              "    }\n",
              "\n",
              "    [theme=dark] .colab-df-convert:hover {\n",
              "      background-color: #434B5C;\n",
              "      box-shadow: 0px 1px 3px 1px rgba(0, 0, 0, 0.15);\n",
              "      filter: drop-shadow(0px 1px 2px rgba(0, 0, 0, 0.3));\n",
              "      fill: #FFFFFF;\n",
              "    }\n",
              "  </style>\n",
              "\n",
              "      <script>\n",
              "        const buttonEl =\n",
              "          document.querySelector('#df-37efdb9e-793b-484f-8423-ef0e2bbded15 button.colab-df-convert');\n",
              "        buttonEl.style.display =\n",
              "          google.colab.kernel.accessAllowed ? 'block' : 'none';\n",
              "\n",
              "        async function convertToInteractive(key) {\n",
              "          const element = document.querySelector('#df-37efdb9e-793b-484f-8423-ef0e2bbded15');\n",
              "          const dataTable =\n",
              "            await google.colab.kernel.invokeFunction('convertToInteractive',\n",
              "                                                     [key], {});\n",
              "          if (!dataTable) return;\n",
              "\n",
              "          const docLinkHtml = 'Like what you see? Visit the ' +\n",
              "            '<a target=\"_blank\" href=https://colab.research.google.com/notebooks/data_table.ipynb>data table notebook</a>'\n",
              "            + ' to learn more about interactive tables.';\n",
              "          element.innerHTML = '';\n",
              "          dataTable['output_type'] = 'display_data';\n",
              "          await google.colab.output.renderOutput(dataTable, element);\n",
              "          const docLink = document.createElement('div');\n",
              "          docLink.innerHTML = docLinkHtml;\n",
              "          element.appendChild(docLink);\n",
              "        }\n",
              "      </script>\n",
              "    </div>\n",
              "  </div>\n",
              "  "
            ],
            "text/plain": [
              "    epoch  accuracy      loss  val_accuracy  val_loss\n",
              "0       0  0.829958  1.150873      0.932917  0.294555\n",
              "1       1  0.914667  0.332923      0.957833  0.171281\n",
              "2       2  0.938875  0.222167      0.961083  0.168741\n",
              "3       3  0.949604  0.179403      0.961333  0.148377\n",
              "4       4  0.956896  0.154753      0.967583  0.136074\n",
              "5       5  0.960187  0.140768      0.971083  0.131788\n",
              "6       6  0.962521  0.131923      0.972750  0.118523\n",
              "7       7  0.965979  0.116077      0.968500  0.122758\n",
              "8       8  0.967687  0.112435      0.967500  0.164255\n",
              "9       9  0.971479  0.105611      0.970333  0.126254\n",
              "10     10  0.972292  0.097585      0.972167  0.133579\n",
              "11     11  0.971875  0.099564      0.975333  0.127263\n",
              "12     12  0.972604  0.095595      0.970083  0.152240\n",
              "13     13  0.972792  0.096202      0.975667  0.117741\n",
              "14     14  0.976479  0.084215      0.977000  0.127655\n",
              "15     15  0.975042  0.091366      0.975333  0.139936\n",
              "16     16  0.977750  0.083829      0.975250  0.163470\n",
              "17     17  0.975292  0.092071      0.975000  0.170604\n",
              "18     18  0.980542  0.077987      0.975917  0.139579\n",
              "19     19  0.978958  0.080848      0.973833  0.174083"
            ]
          },
          "metadata": {},
          "execution_count": 16
        }
      ]
    },
    {
      "cell_type": "code",
      "source": [
        ""
      ],
      "metadata": {
        "id": "lVxPlf1qndEu"
      },
      "execution_count": null,
      "outputs": []
    },
    {
      "cell_type": "markdown",
      "source": [
        "#**ModelCheckpoint**"
      ],
      "metadata": {
        "id": "tRw4XHg4ngdO"
      }
    },
    {
      "cell_type": "code",
      "source": [
        "# eğitim istemediğim bir şekilde kesilirse  ya da iyi bir score alırsak belirli aralıklarla(epoch) kaydetmeye yarıyor \n",
        "\n",
        "from keras.callbacks import ModelCheckpoint"
      ],
      "metadata": {
        "id": "0ApWF6uAmMPo"
      },
      "execution_count": 17,
      "outputs": []
    },
    {
      "cell_type": "markdown",
      "source": [
        "Eğitim esnasında her adım sonunda belirleyeceğiniz şartlara göre modelin komple yada sadece ağırlıklarının kaydedilmesi işini yapar.  "
      ],
      "metadata": {
        "id": "LQqYIPEq1XPI"
      }
    },
    {
      "cell_type": "code",
      "source": [
        "path = \"/content/drive/MyDrive/csv\"\n",
        "checkpoint  = ModelCheckpoint(filepath = path , \n",
        "                              save_freq = \"epoch\",\n",
        "                              save_weights_only= True , # en iyi değerleri kaydediyor\n",
        "                              verbose = 1                  \n",
        "                              )\n",
        "\n",
        "model = mnist_model(input_shape)\n",
        "\n",
        "history_checkpoint =  model.fit(      x = train_images,\n",
        "                                       y = train_labels ,\n",
        "                                       epochs = 20,\n",
        "                                       validation_split = 0.20,\n",
        "                                       batch_size = 64 ,\n",
        "                                       verbose = 2,\n",
        "                                       callbacks = [checkpoint]) "
      ],
      "metadata": {
        "id": "uyWESZvZnbly"
      },
      "execution_count": null,
      "outputs": []
    },
    {
      "cell_type": "markdown",
      "source": [
        "# **ReduceLROnPlateu**"
      ],
      "metadata": {
        "id": "BhmdzzTXxoY8"
      }
    },
    {
      "cell_type": "code",
      "source": [
        "from keras.callbacks import ReduceLROnPlateau"
      ],
      "metadata": {
        "id": "wl4_U-qnzPku"
      },
      "execution_count": 20,
      "outputs": []
    },
    {
      "cell_type": "markdown",
      "source": [
        "Eğitim esnasında takip ettiğiniz değerde belirleyeceğiniz adım — epoch — boyunca iyileşme yoksa Öğrenme hızını sizin belirleyeceğiniz bir katsayıyla çarparak küçültüyor."
      ],
      "metadata": {
        "id": "mhxHUGYg1LhU"
      }
    },
    {
      "cell_type": "code",
      "source": [
        " \n",
        "reduce_lr = ReduceLROnPlateau(monitor = \"val_loss\",\n",
        "                             factor= 0.2,\n",
        "                             patience = 0,\n",
        "                             verbose = 2 \n",
        "                             )\n",
        "\n",
        "model = mnist_model(input_shape)\n",
        "\n",
        "history_reduce_lr =  model.fit(        x = train_images,\n",
        "                                       y = train_labels ,\n",
        "                                       epochs = 20,\n",
        "                                       validation_split = 0.20,\n",
        "                                       batch_size = 64 ,\n",
        "                                       verbose = 2,\n",
        "                                       callbacks = [reduce_lr]) \n"
      ],
      "metadata": {
        "id": "W8QUc7awqvUS",
        "colab": {
          "base_uri": "https://localhost:8080/"
        },
        "outputId": "0c783400-16e7-47ca-9de5-5ffe99c8b90a"
      },
      "execution_count": 24,
      "outputs": [
        {
          "output_type": "stream",
          "name": "stdout",
          "text": [
            "Epoch 1/20\n",
            "750/750 - 4s - loss: 1.0434 - accuracy: 0.8229 - val_loss: 0.2694 - val_accuracy: 0.9337 - lr: 0.0010 - 4s/epoch - 6ms/step\n",
            "Epoch 2/20\n",
            "750/750 - 3s - loss: 0.3099 - accuracy: 0.9159 - val_loss: 0.1836 - val_accuracy: 0.9533 - lr: 0.0010 - 3s/epoch - 5ms/step\n",
            "Epoch 3/20\n",
            "750/750 - 3s - loss: 0.2163 - accuracy: 0.9380 - val_loss: 0.1690 - val_accuracy: 0.9561 - lr: 0.0010 - 3s/epoch - 5ms/step\n",
            "Epoch 4/20\n",
            "750/750 - 3s - loss: 0.1689 - accuracy: 0.9505 - val_loss: 0.1370 - val_accuracy: 0.9702 - lr: 0.0010 - 3s/epoch - 5ms/step\n",
            "Epoch 5/20\n",
            "750/750 - 3s - loss: 0.1487 - accuracy: 0.9582 - val_loss: 0.1322 - val_accuracy: 0.9702 - lr: 0.0010 - 3s/epoch - 5ms/step\n",
            "Epoch 6/20\n",
            "750/750 - 4s - loss: 0.1294 - accuracy: 0.9628 - val_loss: 0.1288 - val_accuracy: 0.9691 - lr: 0.0010 - 4s/epoch - 5ms/step\n",
            "Epoch 7/20\n",
            "\n",
            "Epoch 00007: ReduceLROnPlateau reducing learning rate to 0.00020000000949949026.\n",
            "750/750 - 3s - loss: 0.1207 - accuracy: 0.9655 - val_loss: 0.1324 - val_accuracy: 0.9695 - lr: 0.0010 - 3s/epoch - 5ms/step\n",
            "Epoch 8/20\n",
            "750/750 - 4s - loss: 0.0715 - accuracy: 0.9786 - val_loss: 0.0956 - val_accuracy: 0.9787 - lr: 2.0000e-04 - 4s/epoch - 5ms/step\n",
            "Epoch 9/20\n",
            "750/750 - 3s - loss: 0.0526 - accuracy: 0.9835 - val_loss: 0.0940 - val_accuracy: 0.9795 - lr: 2.0000e-04 - 3s/epoch - 5ms/step\n",
            "Epoch 10/20\n",
            "750/750 - 4s - loss: 0.0457 - accuracy: 0.9854 - val_loss: 0.0934 - val_accuracy: 0.9797 - lr: 2.0000e-04 - 4s/epoch - 5ms/step\n",
            "Epoch 11/20\n",
            "\n",
            "Epoch 00011: ReduceLROnPlateau reducing learning rate to 4.0000001899898055e-05.\n",
            "750/750 - 3s - loss: 0.0427 - accuracy: 0.9863 - val_loss: 0.0976 - val_accuracy: 0.9810 - lr: 2.0000e-04 - 3s/epoch - 5ms/step\n",
            "Epoch 12/20\n",
            "750/750 - 3s - loss: 0.0332 - accuracy: 0.9888 - val_loss: 0.0933 - val_accuracy: 0.9809 - lr: 4.0000e-05 - 3s/epoch - 5ms/step\n",
            "Epoch 13/20\n",
            "750/750 - 3s - loss: 0.0313 - accuracy: 0.9899 - val_loss: 0.0920 - val_accuracy: 0.9812 - lr: 4.0000e-05 - 3s/epoch - 5ms/step\n",
            "Epoch 14/20\n",
            "\n",
            "Epoch 00014: ReduceLROnPlateau reducing learning rate to 8.000000525498762e-06.\n",
            "750/750 - 4s - loss: 0.0292 - accuracy: 0.9904 - val_loss: 0.0938 - val_accuracy: 0.9814 - lr: 4.0000e-05 - 4s/epoch - 5ms/step\n",
            "Epoch 15/20\n",
            "\n",
            "Epoch 00015: ReduceLROnPlateau reducing learning rate to 1.6000001778593287e-06.\n",
            "750/750 - 4s - loss: 0.0289 - accuracy: 0.9906 - val_loss: 0.0953 - val_accuracy: 0.9813 - lr: 8.0000e-06 - 4s/epoch - 5ms/step\n",
            "Epoch 16/20\n",
            "\n",
            "Epoch 00016: ReduceLROnPlateau reducing learning rate to 3.200000264769187e-07.\n",
            "750/750 - 3s - loss: 0.0263 - accuracy: 0.9913 - val_loss: 0.0951 - val_accuracy: 0.9813 - lr: 1.6000e-06 - 3s/epoch - 5ms/step\n",
            "Epoch 17/20\n",
            "\n",
            "Epoch 00017: ReduceLROnPlateau reducing learning rate to 6.400000529538374e-08.\n",
            "750/750 - 4s - loss: 0.0275 - accuracy: 0.9914 - val_loss: 0.0950 - val_accuracy: 0.9813 - lr: 3.2000e-07 - 4s/epoch - 5ms/step\n",
            "Epoch 18/20\n",
            "\n",
            "Epoch 00018: ReduceLROnPlateau reducing learning rate to 1.2800001059076749e-08.\n",
            "750/750 - 4s - loss: 0.0284 - accuracy: 0.9902 - val_loss: 0.0950 - val_accuracy: 0.9813 - lr: 6.4000e-08 - 4s/epoch - 5ms/step\n",
            "Epoch 19/20\n",
            "\n",
            "Epoch 00019: ReduceLROnPlateau reducing learning rate to 2.5600002118153498e-09.\n",
            "750/750 - 4s - loss: 0.0268 - accuracy: 0.9911 - val_loss: 0.0950 - val_accuracy: 0.9813 - lr: 1.2800e-08 - 4s/epoch - 5ms/step\n",
            "Epoch 20/20\n",
            "\n",
            "Epoch 00020: ReduceLROnPlateau reducing learning rate to 5.1200004236307e-10.\n",
            "750/750 - 3s - loss: 0.0278 - accuracy: 0.9909 - val_loss: 0.0950 - val_accuracy: 0.9813 - lr: 2.5600e-09 - 3s/epoch - 5ms/step\n"
          ]
        }
      ]
    },
    {
      "cell_type": "code",
      "source": [
        "plotLR(history_reduce_lr)"
      ],
      "metadata": {
        "id": "xieDtikmWMN_",
        "colab": {
          "base_uri": "https://localhost:8080/",
          "height": 536
        },
        "outputId": "5c25fe5f-78eb-4dac-a157-5ee69160c18b"
      },
      "execution_count": 25,
      "outputs": [
        {
          "output_type": "error",
          "ename": "NameError",
          "evalue": "ignored",
          "traceback": [
            "\u001b[0;31m---------------------------------------------------------------------------\u001b[0m",
            "\u001b[0;31mNameError\u001b[0m                                 Traceback (most recent call last)",
            "\u001b[0;32m<ipython-input-25-f7e476986160>\u001b[0m in \u001b[0;36m<module>\u001b[0;34m()\u001b[0m\n\u001b[0;32m----> 1\u001b[0;31m \u001b[0mplotLR\u001b[0m\u001b[0;34m(\u001b[0m\u001b[0mhistory_reduce_lr\u001b[0m\u001b[0;34m)\u001b[0m\u001b[0;34m\u001b[0m\u001b[0;34m\u001b[0m\u001b[0m\n\u001b[0m",
            "\u001b[0;32m<ipython-input-4-7d4a9695d9a1>\u001b[0m in \u001b[0;36mplotLR\u001b[0;34m(history)\u001b[0m\n\u001b[1;32m      6\u001b[0m \u001b[0;34m\u001b[0m\u001b[0m\n\u001b[1;32m      7\u001b[0m   \u001b[0mplt\u001b[0m\u001b[0;34m.\u001b[0m\u001b[0mplot\u001b[0m\u001b[0;34m(\u001b[0m\u001b[0mepochs\u001b[0m\u001b[0;34m,\u001b[0m \u001b[0mlearning_rate\u001b[0m\u001b[0;34m)\u001b[0m\u001b[0;34m\u001b[0m\u001b[0;34m\u001b[0m\u001b[0m\n\u001b[0;32m----> 8\u001b[0;31m   \u001b[0mplt\u001b[0m\u001b[0;34m.\u001b[0m\u001b[0mplot\u001b[0m\u001b[0;34m(\u001b[0m\u001b[0mepochs\u001b[0m\u001b[0;34m,\u001b[0m \u001b[0mvalidation_metrics\u001b[0m\u001b[0;34m)\u001b[0m\u001b[0;34m\u001b[0m\u001b[0;34m\u001b[0m\u001b[0m\n\u001b[0m\u001b[1;32m      9\u001b[0m \u001b[0;34m\u001b[0m\u001b[0m\n\u001b[1;32m     10\u001b[0m   \u001b[0mplt\u001b[0m\u001b[0;34m.\u001b[0m\u001b[0mtitle\u001b[0m\u001b[0;34m(\u001b[0m\u001b[0;34m\"learning_rate\"\u001b[0m\u001b[0;34m)\u001b[0m\u001b[0;34m\u001b[0m\u001b[0;34m\u001b[0m\u001b[0m\n",
            "\u001b[0;31mNameError\u001b[0m: name 'validation_metrics' is not defined"
          ]
        },
        {
          "output_type": "display_data",
          "data": {
            "image/png": "[encoded data removed]",
            "text/plain": [
              "<Figure size 432x288 with 1 Axes>"
            ]
          },
          "metadata": {
            "needs_background": "light"
          }
        }
      ]
    },
    {
      "cell_type": "code",
      "source": [
        "plotData(history_reduce_lr, \"loss\")"
      ],
      "metadata": {
        "colab": {
          "base_uri": "https://localhost:8080/",
          "height": 295
        },
        "id": "l-klUsTuzpNH",
        "outputId": "2ada9d4a-1f3c-423d-9d81-f1df98a9f079"
      },
      "execution_count": 26,
      "outputs": [
        {
          "output_type": "display_data",
          "data": {
            "image/png": "[encoded data removed]",
            "text/plain": [
              "<Figure size 432x288 with 1 Axes>"
            ]
          },
          "metadata": {
            "needs_background": "light"
          }
        }
      ]
    },
    {
      "cell_type": "markdown",
      "source": [
        "# T**ensorBoard**"
      ],
      "metadata": {
        "id": "K2YSk_VC21DV"
      }
    },
    {
      "cell_type": "markdown",
      "source": [
        "TensorBoard sayesinde kara kutu gibi çalışan yapay sinir ağları içerisindeki hesaplama aşamalarının içerisine bir ışık tutmuş oluyoruz. Grafiksel ekranda accuracy, loss gibi değişkenlerin iterasyonlar boyunca değişimini canlı olarak web arayüzünden izleyerek programın istenildiği gibi davranıp davranmadığını gözlemleyebiliyoruz."
      ],
      "metadata": {
        "id": "uKsnQLM75GQw"
      }
    },
    {
      "cell_type": "code",
      "source": [
        "from keras.callbacks import TensorBoard\n",
        "import time \n",
        "# "
      ],
      "metadata": {
        "id": "LKL1pUnF0FrY"
      },
      "execution_count": 29,
      "outputs": []
    },
    {
      "cell_type": "markdown",
      "source": [
        "Logları alırken bir zaman parametresi de alıyoruz ki program her çalıştığında hangi tarih ve saatte oluşturduysak klasörün ismini o tarih olarak kaydederek kolaylık sağlasın."
      ],
      "metadata": {
        "id": "Zw_45hEK4yJp"
      }
    },
    {
      "cell_type": "code",
      "source": [
        "time = time.strftime(\"%Y_%m_%d_%H_%M_%S\")\n",
        "tensorboard = TensorBoard(log_dir  = \"/content/drive/MyDrive/csv{}\".format(time), # belirtilen yola aralıklarla kayıt edecek\n",
        "                          batch_size  =  64 ,\n",
        "                          histogram_freq  =  1) \n",
        "\n",
        "model = mnist_model(input_shape)\n",
        "\n",
        "history_reduce_lr =  model.fit(        x = train_images,\n",
        "                                       y = train_labels ,\n",
        "                                       epochs = 20,\n",
        "                                       validation_split = 0.20,\n",
        "                                       batch_size = 64 ,\n",
        "                                       verbose = 2,\n",
        "                                       callbacks = [tensorboard]) \n"
      ],
      "metadata": {
        "id": "ysKWBwIx2-1-"
      },
      "execution_count": null,
      "outputs": []
    },
    {
      "cell_type": "code",
      "source": [
        "print(tensorboard.log_dir) # bu adres ile tensorboarda bağlanabilirim "
      ],
      "metadata": {
        "colab": {
          "base_uri": "https://localhost:8080/"
        },
        "id": "w88e6hRI5ZEC",
        "outputId": "9957c76e-5441-438b-90d6-8c0dab280924"
      },
      "execution_count": 35,
      "outputs": [
        {
          "output_type": "stream",
          "name": "stdout",
          "text": [
            "/content/drive/MyDrive/csv2022_01_27_14_13_29\n"
          ]
        }
      ]
    },
    {
      "cell_type": "code",
      "source": [
        "%load_ext tensorboard\n",
        "%tensorboard --logdir logs"
      ],
      "metadata": {
        "id": "l7pQK_7f_gre"
      },
      "execution_count": null,
      "outputs": []
    }
  ]
}